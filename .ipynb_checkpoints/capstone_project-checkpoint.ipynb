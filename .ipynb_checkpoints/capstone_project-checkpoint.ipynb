{
 "cells": [
  {
   "cell_type": "code",
   "execution_count": 1,
   "metadata": {
    "_cell_guid": "b1076dfc-b9ad-4769-8c92-a6c4dae69d19",
    "_kg_hide-output": false,
    "_uuid": "8f2839f25d086af736a60e9eeb907d3b93b6e0e5"
   },
   "outputs": [
    {
     "name": "stdout",
     "output_type": "stream",
     "text": [
      "['train.csv', 'sample_submission.csv', 'test.csv']\n"
     ]
    }
   ],
   "source": [
    "# This Python 3 environment comes with many helpful analytics libraries installed\n",
    "# It is defined by the kaggle/python docker image: https://github.com/kaggle/docker-python\n",
    "# For example, here's several helpful packages to load in \n",
    "\n",
    "import numpy as np # linear algebra\n",
    "import pandas as pd # data processing, CSV file I/O (e.g. pd.read_csv)\n",
    "from IPython.display import display # Allows the use of display() for DataFrames\n",
    "import matplotlib.pyplot as plt\n",
    "import seaborn as sns\n",
    "\n",
    "# Input data files are available in the \"../input/\" directory.\n",
    "# For example, running this (by clicking run or pressing Shift+Enter) will list the files in the input directory\n",
    "\n",
    "import os\n",
    "print(os.listdir(\"../input\"))\n",
    "\n",
    "# Any results you write to the current directory are saved as output."
   ]
  },
  {
   "cell_type": "code",
   "execution_count": 2,
   "metadata": {
    "_cell_guid": "79c7e3d0-c299-4dcb-8224-4455121ee9b0",
    "_kg_hide-output": false,
    "_uuid": "d629ff2d2480ee46fbb7e2d37f6b5fab8052498a",
    "collapsed": true
   },
   "outputs": [],
   "source": [
    "# loading data\n",
    "train = pd.read_csv(\"../input/train.csv\")\n",
    "test = pd.read_csv(\"../input/test.csv\")"
   ]
  },
  {
   "cell_type": "code",
   "execution_count": 3,
   "metadata": {
    "_cell_guid": "d0a1d85e-49c8-4d11-b540-e4e9012cc290",
    "_uuid": "042269d01f57ffaffd8bfb58b0590f6dcef9cca0"
   },
   "outputs": [
    {
     "name": "stdout",
     "output_type": "stream",
     "text": [
      "training set shape:  (76020, 371)\n",
      "testing set shape:  (75818, 370)\n"
     ]
    }
   ],
   "source": [
    "print(\"training set shape: \",train.shape)\n",
    "print(\"testing set shape: \",test.shape)"
   ]
  },
  {
   "cell_type": "markdown",
   "metadata": {
    "_cell_guid": "a365c61f-822d-437f-814e-363cabdb16ab",
    "_uuid": "8c1f2ae8525c5a8dad94b3b6281c99b951bd65ad"
   },
   "source": [
    "**Analysis**"
   ]
  },
  {
   "cell_type": "markdown",
   "metadata": {
    "_cell_guid": "f285cdf2-9539-45cd-811c-904e25f49263",
    "_uuid": "03b0083ca706d61d8d257f0260b86258c32ff93b"
   },
   "source": [
    "* **Data exploration:**"
   ]
  },
  {
   "cell_type": "code",
   "execution_count": 4,
   "metadata": {
    "_cell_guid": "20eabdd3-207e-47ce-a4c0-a23d7f29e1e7",
    "_uuid": "5a8ddb470fa8c9af534d3a39b38b3354ae402ddf"
   },
   "outputs": [
    {
     "data": {
      "text/html": [
       "<div>\n",
       "<style scoped>\n",
       "    .dataframe tbody tr th:only-of-type {\n",
       "        vertical-align: middle;\n",
       "    }\n",
       "\n",
       "    .dataframe tbody tr th {\n",
       "        vertical-align: top;\n",
       "    }\n",
       "\n",
       "    .dataframe thead th {\n",
       "        text-align: right;\n",
       "    }\n",
       "</style>\n",
       "<table border=\"1\" class=\"dataframe\">\n",
       "  <thead>\n",
       "    <tr style=\"text-align: right;\">\n",
       "      <th></th>\n",
       "      <th>ID</th>\n",
       "      <th>var3</th>\n",
       "      <th>var15</th>\n",
       "      <th>imp_ent_var16_ult1</th>\n",
       "      <th>imp_op_var39_comer_ult1</th>\n",
       "      <th>imp_op_var39_comer_ult3</th>\n",
       "      <th>imp_op_var40_comer_ult1</th>\n",
       "      <th>imp_op_var40_comer_ult3</th>\n",
       "      <th>imp_op_var40_efect_ult1</th>\n",
       "      <th>imp_op_var40_efect_ult3</th>\n",
       "      <th>imp_op_var40_ult1</th>\n",
       "      <th>imp_op_var41_comer_ult1</th>\n",
       "      <th>imp_op_var41_comer_ult3</th>\n",
       "      <th>imp_op_var41_efect_ult1</th>\n",
       "      <th>imp_op_var41_efect_ult3</th>\n",
       "      <th>imp_op_var41_ult1</th>\n",
       "      <th>imp_op_var39_efect_ult1</th>\n",
       "      <th>imp_op_var39_efect_ult3</th>\n",
       "      <th>imp_op_var39_ult1</th>\n",
       "      <th>imp_sal_var16_ult1</th>\n",
       "      <th>ind_var1_0</th>\n",
       "      <th>ind_var1</th>\n",
       "      <th>ind_var2_0</th>\n",
       "      <th>ind_var2</th>\n",
       "      <th>ind_var5_0</th>\n",
       "      <th>ind_var5</th>\n",
       "      <th>ind_var6_0</th>\n",
       "      <th>ind_var6</th>\n",
       "      <th>ind_var8_0</th>\n",
       "      <th>ind_var8</th>\n",
       "      <th>ind_var12_0</th>\n",
       "      <th>ind_var12</th>\n",
       "      <th>ind_var13_0</th>\n",
       "      <th>ind_var13_corto_0</th>\n",
       "      <th>ind_var13_corto</th>\n",
       "      <th>ind_var13_largo_0</th>\n",
       "      <th>ind_var13_largo</th>\n",
       "      <th>ind_var13_medio_0</th>\n",
       "      <th>ind_var13_medio</th>\n",
       "      <th>ind_var13</th>\n",
       "      <th>...</th>\n",
       "      <th>saldo_medio_var5_ult1</th>\n",
       "      <th>saldo_medio_var5_ult3</th>\n",
       "      <th>saldo_medio_var8_hace2</th>\n",
       "      <th>saldo_medio_var8_hace3</th>\n",
       "      <th>saldo_medio_var8_ult1</th>\n",
       "      <th>saldo_medio_var8_ult3</th>\n",
       "      <th>saldo_medio_var12_hace2</th>\n",
       "      <th>saldo_medio_var12_hace3</th>\n",
       "      <th>saldo_medio_var12_ult1</th>\n",
       "      <th>saldo_medio_var12_ult3</th>\n",
       "      <th>saldo_medio_var13_corto_hace2</th>\n",
       "      <th>saldo_medio_var13_corto_hace3</th>\n",
       "      <th>saldo_medio_var13_corto_ult1</th>\n",
       "      <th>saldo_medio_var13_corto_ult3</th>\n",
       "      <th>saldo_medio_var13_largo_hace2</th>\n",
       "      <th>saldo_medio_var13_largo_hace3</th>\n",
       "      <th>saldo_medio_var13_largo_ult1</th>\n",
       "      <th>saldo_medio_var13_largo_ult3</th>\n",
       "      <th>saldo_medio_var13_medio_hace2</th>\n",
       "      <th>saldo_medio_var13_medio_hace3</th>\n",
       "      <th>saldo_medio_var13_medio_ult1</th>\n",
       "      <th>saldo_medio_var13_medio_ult3</th>\n",
       "      <th>saldo_medio_var17_hace2</th>\n",
       "      <th>saldo_medio_var17_hace3</th>\n",
       "      <th>saldo_medio_var17_ult1</th>\n",
       "      <th>saldo_medio_var17_ult3</th>\n",
       "      <th>saldo_medio_var29_hace2</th>\n",
       "      <th>saldo_medio_var29_hace3</th>\n",
       "      <th>saldo_medio_var29_ult1</th>\n",
       "      <th>saldo_medio_var29_ult3</th>\n",
       "      <th>saldo_medio_var33_hace2</th>\n",
       "      <th>saldo_medio_var33_hace3</th>\n",
       "      <th>saldo_medio_var33_ult1</th>\n",
       "      <th>saldo_medio_var33_ult3</th>\n",
       "      <th>saldo_medio_var44_hace2</th>\n",
       "      <th>saldo_medio_var44_hace3</th>\n",
       "      <th>saldo_medio_var44_ult1</th>\n",
       "      <th>saldo_medio_var44_ult3</th>\n",
       "      <th>var38</th>\n",
       "      <th>TARGET</th>\n",
       "    </tr>\n",
       "  </thead>\n",
       "  <tbody>\n",
       "    <tr>\n",
       "      <th>count</th>\n",
       "      <td>76020.000000</td>\n",
       "      <td>76020.000000</td>\n",
       "      <td>76020.000000</td>\n",
       "      <td>76020.000000</td>\n",
       "      <td>76020.000000</td>\n",
       "      <td>76020.000000</td>\n",
       "      <td>76020.000000</td>\n",
       "      <td>76020.000000</td>\n",
       "      <td>76020.000000</td>\n",
       "      <td>76020.000000</td>\n",
       "      <td>76020.000000</td>\n",
       "      <td>76020.000000</td>\n",
       "      <td>76020.000000</td>\n",
       "      <td>76020.000000</td>\n",
       "      <td>76020.000000</td>\n",
       "      <td>76020.000000</td>\n",
       "      <td>76020.000000</td>\n",
       "      <td>76020.000000</td>\n",
       "      <td>76020.000000</td>\n",
       "      <td>76020.000000</td>\n",
       "      <td>76020.000000</td>\n",
       "      <td>76020.000000</td>\n",
       "      <td>76020.0</td>\n",
       "      <td>76020.0</td>\n",
       "      <td>76020.000000</td>\n",
       "      <td>76020.000000</td>\n",
       "      <td>76020.000000</td>\n",
       "      <td>76020.000000</td>\n",
       "      <td>76020.000000</td>\n",
       "      <td>76020.000000</td>\n",
       "      <td>76020.000000</td>\n",
       "      <td>76020.000000</td>\n",
       "      <td>76020.000000</td>\n",
       "      <td>76020.000000</td>\n",
       "      <td>76020.000000</td>\n",
       "      <td>76020.000000</td>\n",
       "      <td>76020.000000</td>\n",
       "      <td>76020.000000</td>\n",
       "      <td>76020.000000</td>\n",
       "      <td>76020.000000</td>\n",
       "      <td>...</td>\n",
       "      <td>76020.000000</td>\n",
       "      <td>76020.000000</td>\n",
       "      <td>76020.000000</td>\n",
       "      <td>76020.000000</td>\n",
       "      <td>76020.000000</td>\n",
       "      <td>76020.000000</td>\n",
       "      <td>7.602000e+04</td>\n",
       "      <td>76020.000000</td>\n",
       "      <td>7.602000e+04</td>\n",
       "      <td>7.602000e+04</td>\n",
       "      <td>76020.000000</td>\n",
       "      <td>76020.000000</td>\n",
       "      <td>76020.000000</td>\n",
       "      <td>76020.000000</td>\n",
       "      <td>76020.000000</td>\n",
       "      <td>76020.000000</td>\n",
       "      <td>7.602000e+04</td>\n",
       "      <td>7.602000e+04</td>\n",
       "      <td>76020.000000</td>\n",
       "      <td>76020.0</td>\n",
       "      <td>76020.000000</td>\n",
       "      <td>76020.000000</td>\n",
       "      <td>7.602000e+04</td>\n",
       "      <td>7.602000e+04</td>\n",
       "      <td>7.602000e+04</td>\n",
       "      <td>7.602000e+04</td>\n",
       "      <td>76020.000000</td>\n",
       "      <td>76020.000000</td>\n",
       "      <td>76020.000000</td>\n",
       "      <td>76020.000000</td>\n",
       "      <td>76020.000000</td>\n",
       "      <td>76020.000000</td>\n",
       "      <td>76020.000000</td>\n",
       "      <td>76020.000000</td>\n",
       "      <td>76020.000000</td>\n",
       "      <td>76020.000000</td>\n",
       "      <td>76020.000000</td>\n",
       "      <td>76020.000000</td>\n",
       "      <td>7.602000e+04</td>\n",
       "      <td>76020.000000</td>\n",
       "    </tr>\n",
       "    <tr>\n",
       "      <th>mean</th>\n",
       "      <td>75964.050723</td>\n",
       "      <td>-1523.199277</td>\n",
       "      <td>33.212865</td>\n",
       "      <td>86.208265</td>\n",
       "      <td>72.363067</td>\n",
       "      <td>119.529632</td>\n",
       "      <td>3.559130</td>\n",
       "      <td>6.472698</td>\n",
       "      <td>0.412946</td>\n",
       "      <td>0.567352</td>\n",
       "      <td>3.160715</td>\n",
       "      <td>68.803937</td>\n",
       "      <td>113.056934</td>\n",
       "      <td>68.205140</td>\n",
       "      <td>113.225058</td>\n",
       "      <td>137.242763</td>\n",
       "      <td>68.618087</td>\n",
       "      <td>113.792410</td>\n",
       "      <td>140.403479</td>\n",
       "      <td>5.477676</td>\n",
       "      <td>0.011458</td>\n",
       "      <td>0.003762</td>\n",
       "      <td>0.0</td>\n",
       "      <td>0.0</td>\n",
       "      <td>0.958024</td>\n",
       "      <td>0.663760</td>\n",
       "      <td>0.000105</td>\n",
       "      <td>0.000026</td>\n",
       "      <td>0.032833</td>\n",
       "      <td>0.028598</td>\n",
       "      <td>0.067522</td>\n",
       "      <td>0.045462</td>\n",
       "      <td>0.052249</td>\n",
       "      <td>0.042936</td>\n",
       "      <td>0.041476</td>\n",
       "      <td>0.010168</td>\n",
       "      <td>0.009997</td>\n",
       "      <td>0.000026</td>\n",
       "      <td>0.000026</td>\n",
       "      <td>0.050855</td>\n",
       "      <td>...</td>\n",
       "      <td>1077.256756</td>\n",
       "      <td>1048.856447</td>\n",
       "      <td>68.275452</td>\n",
       "      <td>9.505287</td>\n",
       "      <td>124.620962</td>\n",
       "      <td>110.026575</td>\n",
       "      <td>3.997023e+03</td>\n",
       "      <td>613.534443</td>\n",
       "      <td>5.703008e+03</td>\n",
       "      <td>4.401002e+03</td>\n",
       "      <td>3639.419939</td>\n",
       "      <td>556.184178</td>\n",
       "      <td>4852.261814</td>\n",
       "      <td>3857.848542</td>\n",
       "      <td>771.227449</td>\n",
       "      <td>162.170439</td>\n",
       "      <td>9.569502e+02</td>\n",
       "      <td>7.509563e+02</td>\n",
       "      <td>0.175324</td>\n",
       "      <td>0.0</td>\n",
       "      <td>0.513023</td>\n",
       "      <td>0.344174</td>\n",
       "      <td>9.117181e+01</td>\n",
       "      <td>3.646318e+01</td>\n",
       "      <td>1.310316e+02</td>\n",
       "      <td>1.092169e+02</td>\n",
       "      <td>0.213071</td>\n",
       "      <td>0.001910</td>\n",
       "      <td>0.253907</td>\n",
       "      <td>0.186630</td>\n",
       "      <td>7.935824</td>\n",
       "      <td>1.365146</td>\n",
       "      <td>12.215580</td>\n",
       "      <td>8.784074</td>\n",
       "      <td>31.505324</td>\n",
       "      <td>1.858575</td>\n",
       "      <td>76.026165</td>\n",
       "      <td>56.614351</td>\n",
       "      <td>1.172358e+05</td>\n",
       "      <td>0.039569</td>\n",
       "    </tr>\n",
       "    <tr>\n",
       "      <th>std</th>\n",
       "      <td>43781.947379</td>\n",
       "      <td>39033.462364</td>\n",
       "      <td>12.956486</td>\n",
       "      <td>1614.757313</td>\n",
       "      <td>339.315831</td>\n",
       "      <td>546.266294</td>\n",
       "      <td>93.155749</td>\n",
       "      <td>153.737066</td>\n",
       "      <td>30.604864</td>\n",
       "      <td>36.513513</td>\n",
       "      <td>95.268204</td>\n",
       "      <td>319.605516</td>\n",
       "      <td>512.154823</td>\n",
       "      <td>531.897917</td>\n",
       "      <td>950.086398</td>\n",
       "      <td>697.712596</td>\n",
       "      <td>535.473750</td>\n",
       "      <td>953.578624</td>\n",
       "      <td>712.767240</td>\n",
       "      <td>465.391149</td>\n",
       "      <td>0.106425</td>\n",
       "      <td>0.061221</td>\n",
       "      <td>0.0</td>\n",
       "      <td>0.0</td>\n",
       "      <td>0.200535</td>\n",
       "      <td>0.472425</td>\n",
       "      <td>0.010258</td>\n",
       "      <td>0.005129</td>\n",
       "      <td>0.178202</td>\n",
       "      <td>0.166674</td>\n",
       "      <td>0.250925</td>\n",
       "      <td>0.208316</td>\n",
       "      <td>0.222531</td>\n",
       "      <td>0.202714</td>\n",
       "      <td>0.199390</td>\n",
       "      <td>0.100325</td>\n",
       "      <td>0.099486</td>\n",
       "      <td>0.005129</td>\n",
       "      <td>0.005129</td>\n",
       "      <td>0.219703</td>\n",
       "      <td>...</td>\n",
       "      <td>9614.906985</td>\n",
       "      <td>8189.948852</td>\n",
       "      <td>1733.838226</td>\n",
       "      <td>519.389157</td>\n",
       "      <td>2205.249804</td>\n",
       "      <td>1935.305713</td>\n",
       "      <td>3.777314e+04</td>\n",
       "      <td>9292.752726</td>\n",
       "      <td>4.620254e+04</td>\n",
       "      <td>3.550718e+04</td>\n",
       "      <td>26359.174223</td>\n",
       "      <td>7182.642532</td>\n",
       "      <td>31886.615189</td>\n",
       "      <td>25572.245055</td>\n",
       "      <td>13082.155867</td>\n",
       "      <td>4698.868075</td>\n",
       "      <td>1.600698e+04</td>\n",
       "      <td>1.242252e+04</td>\n",
       "      <td>34.625518</td>\n",
       "      <td>0.0</td>\n",
       "      <td>113.597559</td>\n",
       "      <td>73.376513</td>\n",
       "      <td>1.539248e+04</td>\n",
       "      <td>8.612395e+03</td>\n",
       "      <td>1.495653e+04</td>\n",
       "      <td>1.308216e+04</td>\n",
       "      <td>41.820444</td>\n",
       "      <td>0.526626</td>\n",
       "      <td>52.078775</td>\n",
       "      <td>31.879418</td>\n",
       "      <td>455.887218</td>\n",
       "      <td>113.959637</td>\n",
       "      <td>783.207399</td>\n",
       "      <td>538.439211</td>\n",
       "      <td>2013.125393</td>\n",
       "      <td>147.786584</td>\n",
       "      <td>4040.337842</td>\n",
       "      <td>2852.579397</td>\n",
       "      <td>1.826646e+05</td>\n",
       "      <td>0.194945</td>\n",
       "    </tr>\n",
       "    <tr>\n",
       "      <th>min</th>\n",
       "      <td>1.000000</td>\n",
       "      <td>-999999.000000</td>\n",
       "      <td>5.000000</td>\n",
       "      <td>0.000000</td>\n",
       "      <td>0.000000</td>\n",
       "      <td>0.000000</td>\n",
       "      <td>0.000000</td>\n",
       "      <td>0.000000</td>\n",
       "      <td>0.000000</td>\n",
       "      <td>0.000000</td>\n",
       "      <td>0.000000</td>\n",
       "      <td>0.000000</td>\n",
       "      <td>0.000000</td>\n",
       "      <td>0.000000</td>\n",
       "      <td>0.000000</td>\n",
       "      <td>0.000000</td>\n",
       "      <td>0.000000</td>\n",
       "      <td>0.000000</td>\n",
       "      <td>0.000000</td>\n",
       "      <td>0.000000</td>\n",
       "      <td>0.000000</td>\n",
       "      <td>0.000000</td>\n",
       "      <td>0.0</td>\n",
       "      <td>0.0</td>\n",
       "      <td>0.000000</td>\n",
       "      <td>0.000000</td>\n",
       "      <td>0.000000</td>\n",
       "      <td>0.000000</td>\n",
       "      <td>0.000000</td>\n",
       "      <td>0.000000</td>\n",
       "      <td>0.000000</td>\n",
       "      <td>0.000000</td>\n",
       "      <td>0.000000</td>\n",
       "      <td>0.000000</td>\n",
       "      <td>0.000000</td>\n",
       "      <td>0.000000</td>\n",
       "      <td>0.000000</td>\n",
       "      <td>0.000000</td>\n",
       "      <td>0.000000</td>\n",
       "      <td>0.000000</td>\n",
       "      <td>...</td>\n",
       "      <td>-922.380000</td>\n",
       "      <td>-476.070000</td>\n",
       "      <td>-287.670000</td>\n",
       "      <td>0.000000</td>\n",
       "      <td>-3401.340000</td>\n",
       "      <td>-1844.520000</td>\n",
       "      <td>0.000000e+00</td>\n",
       "      <td>0.000000</td>\n",
       "      <td>0.000000e+00</td>\n",
       "      <td>0.000000e+00</td>\n",
       "      <td>0.000000</td>\n",
       "      <td>0.000000</td>\n",
       "      <td>0.000000</td>\n",
       "      <td>0.000000</td>\n",
       "      <td>0.000000</td>\n",
       "      <td>0.000000</td>\n",
       "      <td>0.000000e+00</td>\n",
       "      <td>0.000000e+00</td>\n",
       "      <td>0.000000</td>\n",
       "      <td>0.0</td>\n",
       "      <td>0.000000</td>\n",
       "      <td>0.000000</td>\n",
       "      <td>-3.000000e-02</td>\n",
       "      <td>0.000000e+00</td>\n",
       "      <td>0.000000e+00</td>\n",
       "      <td>0.000000e+00</td>\n",
       "      <td>0.000000</td>\n",
       "      <td>0.000000</td>\n",
       "      <td>0.000000</td>\n",
       "      <td>0.000000</td>\n",
       "      <td>0.000000</td>\n",
       "      <td>0.000000</td>\n",
       "      <td>0.000000</td>\n",
       "      <td>0.000000</td>\n",
       "      <td>0.000000</td>\n",
       "      <td>0.000000</td>\n",
       "      <td>0.000000</td>\n",
       "      <td>0.000000</td>\n",
       "      <td>5.163750e+03</td>\n",
       "      <td>0.000000</td>\n",
       "    </tr>\n",
       "    <tr>\n",
       "      <th>25%</th>\n",
       "      <td>38104.750000</td>\n",
       "      <td>2.000000</td>\n",
       "      <td>23.000000</td>\n",
       "      <td>0.000000</td>\n",
       "      <td>0.000000</td>\n",
       "      <td>0.000000</td>\n",
       "      <td>0.000000</td>\n",
       "      <td>0.000000</td>\n",
       "      <td>0.000000</td>\n",
       "      <td>0.000000</td>\n",
       "      <td>0.000000</td>\n",
       "      <td>0.000000</td>\n",
       "      <td>0.000000</td>\n",
       "      <td>0.000000</td>\n",
       "      <td>0.000000</td>\n",
       "      <td>0.000000</td>\n",
       "      <td>0.000000</td>\n",
       "      <td>0.000000</td>\n",
       "      <td>0.000000</td>\n",
       "      <td>0.000000</td>\n",
       "      <td>0.000000</td>\n",
       "      <td>0.000000</td>\n",
       "      <td>0.0</td>\n",
       "      <td>0.0</td>\n",
       "      <td>1.000000</td>\n",
       "      <td>0.000000</td>\n",
       "      <td>0.000000</td>\n",
       "      <td>0.000000</td>\n",
       "      <td>0.000000</td>\n",
       "      <td>0.000000</td>\n",
       "      <td>0.000000</td>\n",
       "      <td>0.000000</td>\n",
       "      <td>0.000000</td>\n",
       "      <td>0.000000</td>\n",
       "      <td>0.000000</td>\n",
       "      <td>0.000000</td>\n",
       "      <td>0.000000</td>\n",
       "      <td>0.000000</td>\n",
       "      <td>0.000000</td>\n",
       "      <td>0.000000</td>\n",
       "      <td>...</td>\n",
       "      <td>0.000000</td>\n",
       "      <td>0.000000</td>\n",
       "      <td>0.000000</td>\n",
       "      <td>0.000000</td>\n",
       "      <td>0.000000</td>\n",
       "      <td>0.000000</td>\n",
       "      <td>0.000000e+00</td>\n",
       "      <td>0.000000</td>\n",
       "      <td>0.000000e+00</td>\n",
       "      <td>0.000000e+00</td>\n",
       "      <td>0.000000</td>\n",
       "      <td>0.000000</td>\n",
       "      <td>0.000000</td>\n",
       "      <td>0.000000</td>\n",
       "      <td>0.000000</td>\n",
       "      <td>0.000000</td>\n",
       "      <td>0.000000e+00</td>\n",
       "      <td>0.000000e+00</td>\n",
       "      <td>0.000000</td>\n",
       "      <td>0.0</td>\n",
       "      <td>0.000000</td>\n",
       "      <td>0.000000</td>\n",
       "      <td>0.000000e+00</td>\n",
       "      <td>0.000000e+00</td>\n",
       "      <td>0.000000e+00</td>\n",
       "      <td>0.000000e+00</td>\n",
       "      <td>0.000000</td>\n",
       "      <td>0.000000</td>\n",
       "      <td>0.000000</td>\n",
       "      <td>0.000000</td>\n",
       "      <td>0.000000</td>\n",
       "      <td>0.000000</td>\n",
       "      <td>0.000000</td>\n",
       "      <td>0.000000</td>\n",
       "      <td>0.000000</td>\n",
       "      <td>0.000000</td>\n",
       "      <td>0.000000</td>\n",
       "      <td>0.000000</td>\n",
       "      <td>6.787061e+04</td>\n",
       "      <td>0.000000</td>\n",
       "    </tr>\n",
       "    <tr>\n",
       "      <th>50%</th>\n",
       "      <td>76043.000000</td>\n",
       "      <td>2.000000</td>\n",
       "      <td>28.000000</td>\n",
       "      <td>0.000000</td>\n",
       "      <td>0.000000</td>\n",
       "      <td>0.000000</td>\n",
       "      <td>0.000000</td>\n",
       "      <td>0.000000</td>\n",
       "      <td>0.000000</td>\n",
       "      <td>0.000000</td>\n",
       "      <td>0.000000</td>\n",
       "      <td>0.000000</td>\n",
       "      <td>0.000000</td>\n",
       "      <td>0.000000</td>\n",
       "      <td>0.000000</td>\n",
       "      <td>0.000000</td>\n",
       "      <td>0.000000</td>\n",
       "      <td>0.000000</td>\n",
       "      <td>0.000000</td>\n",
       "      <td>0.000000</td>\n",
       "      <td>0.000000</td>\n",
       "      <td>0.000000</td>\n",
       "      <td>0.0</td>\n",
       "      <td>0.0</td>\n",
       "      <td>1.000000</td>\n",
       "      <td>1.000000</td>\n",
       "      <td>0.000000</td>\n",
       "      <td>0.000000</td>\n",
       "      <td>0.000000</td>\n",
       "      <td>0.000000</td>\n",
       "      <td>0.000000</td>\n",
       "      <td>0.000000</td>\n",
       "      <td>0.000000</td>\n",
       "      <td>0.000000</td>\n",
       "      <td>0.000000</td>\n",
       "      <td>0.000000</td>\n",
       "      <td>0.000000</td>\n",
       "      <td>0.000000</td>\n",
       "      <td>0.000000</td>\n",
       "      <td>0.000000</td>\n",
       "      <td>...</td>\n",
       "      <td>3.000000</td>\n",
       "      <td>2.730000</td>\n",
       "      <td>0.000000</td>\n",
       "      <td>0.000000</td>\n",
       "      <td>0.000000</td>\n",
       "      <td>0.000000</td>\n",
       "      <td>0.000000e+00</td>\n",
       "      <td>0.000000</td>\n",
       "      <td>0.000000e+00</td>\n",
       "      <td>0.000000e+00</td>\n",
       "      <td>0.000000</td>\n",
       "      <td>0.000000</td>\n",
       "      <td>0.000000</td>\n",
       "      <td>0.000000</td>\n",
       "      <td>0.000000</td>\n",
       "      <td>0.000000</td>\n",
       "      <td>0.000000e+00</td>\n",
       "      <td>0.000000e+00</td>\n",
       "      <td>0.000000</td>\n",
       "      <td>0.0</td>\n",
       "      <td>0.000000</td>\n",
       "      <td>0.000000</td>\n",
       "      <td>0.000000e+00</td>\n",
       "      <td>0.000000e+00</td>\n",
       "      <td>0.000000e+00</td>\n",
       "      <td>0.000000e+00</td>\n",
       "      <td>0.000000</td>\n",
       "      <td>0.000000</td>\n",
       "      <td>0.000000</td>\n",
       "      <td>0.000000</td>\n",
       "      <td>0.000000</td>\n",
       "      <td>0.000000</td>\n",
       "      <td>0.000000</td>\n",
       "      <td>0.000000</td>\n",
       "      <td>0.000000</td>\n",
       "      <td>0.000000</td>\n",
       "      <td>0.000000</td>\n",
       "      <td>0.000000</td>\n",
       "      <td>1.064092e+05</td>\n",
       "      <td>0.000000</td>\n",
       "    </tr>\n",
       "    <tr>\n",
       "      <th>75%</th>\n",
       "      <td>113748.750000</td>\n",
       "      <td>2.000000</td>\n",
       "      <td>40.000000</td>\n",
       "      <td>0.000000</td>\n",
       "      <td>0.000000</td>\n",
       "      <td>0.000000</td>\n",
       "      <td>0.000000</td>\n",
       "      <td>0.000000</td>\n",
       "      <td>0.000000</td>\n",
       "      <td>0.000000</td>\n",
       "      <td>0.000000</td>\n",
       "      <td>0.000000</td>\n",
       "      <td>0.000000</td>\n",
       "      <td>0.000000</td>\n",
       "      <td>0.000000</td>\n",
       "      <td>0.000000</td>\n",
       "      <td>0.000000</td>\n",
       "      <td>0.000000</td>\n",
       "      <td>0.000000</td>\n",
       "      <td>0.000000</td>\n",
       "      <td>0.000000</td>\n",
       "      <td>0.000000</td>\n",
       "      <td>0.0</td>\n",
       "      <td>0.0</td>\n",
       "      <td>1.000000</td>\n",
       "      <td>1.000000</td>\n",
       "      <td>0.000000</td>\n",
       "      <td>0.000000</td>\n",
       "      <td>0.000000</td>\n",
       "      <td>0.000000</td>\n",
       "      <td>0.000000</td>\n",
       "      <td>0.000000</td>\n",
       "      <td>0.000000</td>\n",
       "      <td>0.000000</td>\n",
       "      <td>0.000000</td>\n",
       "      <td>0.000000</td>\n",
       "      <td>0.000000</td>\n",
       "      <td>0.000000</td>\n",
       "      <td>0.000000</td>\n",
       "      <td>0.000000</td>\n",
       "      <td>...</td>\n",
       "      <td>90.000000</td>\n",
       "      <td>83.790000</td>\n",
       "      <td>0.000000</td>\n",
       "      <td>0.000000</td>\n",
       "      <td>0.000000</td>\n",
       "      <td>0.000000</td>\n",
       "      <td>0.000000e+00</td>\n",
       "      <td>0.000000</td>\n",
       "      <td>0.000000e+00</td>\n",
       "      <td>0.000000e+00</td>\n",
       "      <td>0.000000</td>\n",
       "      <td>0.000000</td>\n",
       "      <td>0.000000</td>\n",
       "      <td>0.000000</td>\n",
       "      <td>0.000000</td>\n",
       "      <td>0.000000</td>\n",
       "      <td>0.000000e+00</td>\n",
       "      <td>0.000000e+00</td>\n",
       "      <td>0.000000</td>\n",
       "      <td>0.0</td>\n",
       "      <td>0.000000</td>\n",
       "      <td>0.000000</td>\n",
       "      <td>0.000000e+00</td>\n",
       "      <td>0.000000e+00</td>\n",
       "      <td>0.000000e+00</td>\n",
       "      <td>0.000000e+00</td>\n",
       "      <td>0.000000</td>\n",
       "      <td>0.000000</td>\n",
       "      <td>0.000000</td>\n",
       "      <td>0.000000</td>\n",
       "      <td>0.000000</td>\n",
       "      <td>0.000000</td>\n",
       "      <td>0.000000</td>\n",
       "      <td>0.000000</td>\n",
       "      <td>0.000000</td>\n",
       "      <td>0.000000</td>\n",
       "      <td>0.000000</td>\n",
       "      <td>0.000000</td>\n",
       "      <td>1.187563e+05</td>\n",
       "      <td>0.000000</td>\n",
       "    </tr>\n",
       "    <tr>\n",
       "      <th>max</th>\n",
       "      <td>151838.000000</td>\n",
       "      <td>238.000000</td>\n",
       "      <td>105.000000</td>\n",
       "      <td>210000.000000</td>\n",
       "      <td>12888.030000</td>\n",
       "      <td>21024.810000</td>\n",
       "      <td>8237.820000</td>\n",
       "      <td>11073.570000</td>\n",
       "      <td>6600.000000</td>\n",
       "      <td>6600.000000</td>\n",
       "      <td>8237.820000</td>\n",
       "      <td>12888.030000</td>\n",
       "      <td>16566.810000</td>\n",
       "      <td>45990.000000</td>\n",
       "      <td>131100.000000</td>\n",
       "      <td>47598.090000</td>\n",
       "      <td>45990.000000</td>\n",
       "      <td>131100.000000</td>\n",
       "      <td>47598.090000</td>\n",
       "      <td>105000.000000</td>\n",
       "      <td>1.000000</td>\n",
       "      <td>1.000000</td>\n",
       "      <td>0.0</td>\n",
       "      <td>0.0</td>\n",
       "      <td>1.000000</td>\n",
       "      <td>1.000000</td>\n",
       "      <td>1.000000</td>\n",
       "      <td>1.000000</td>\n",
       "      <td>1.000000</td>\n",
       "      <td>1.000000</td>\n",
       "      <td>1.000000</td>\n",
       "      <td>1.000000</td>\n",
       "      <td>1.000000</td>\n",
       "      <td>1.000000</td>\n",
       "      <td>1.000000</td>\n",
       "      <td>1.000000</td>\n",
       "      <td>1.000000</td>\n",
       "      <td>1.000000</td>\n",
       "      <td>1.000000</td>\n",
       "      <td>1.000000</td>\n",
       "      <td>...</td>\n",
       "      <td>601428.600000</td>\n",
       "      <td>544365.570000</td>\n",
       "      <td>231351.990000</td>\n",
       "      <td>77586.210000</td>\n",
       "      <td>228031.800000</td>\n",
       "      <td>177582.000000</td>\n",
       "      <td>3.000538e+06</td>\n",
       "      <td>668335.320000</td>\n",
       "      <td>3.004186e+06</td>\n",
       "      <td>2.272859e+06</td>\n",
       "      <td>450000.000000</td>\n",
       "      <td>304838.700000</td>\n",
       "      <td>450000.000000</td>\n",
       "      <td>450000.000000</td>\n",
       "      <td>840000.000000</td>\n",
       "      <td>534000.000000</td>\n",
       "      <td>1.500000e+06</td>\n",
       "      <td>1.034483e+06</td>\n",
       "      <td>7741.950000</td>\n",
       "      <td>0.0</td>\n",
       "      <td>30000.000000</td>\n",
       "      <td>18870.990000</td>\n",
       "      <td>4.210084e+06</td>\n",
       "      <td>2.368559e+06</td>\n",
       "      <td>3.998687e+06</td>\n",
       "      <td>3.525777e+06</td>\n",
       "      <td>10430.010000</td>\n",
       "      <td>145.200000</td>\n",
       "      <td>13793.670000</td>\n",
       "      <td>7331.340000</td>\n",
       "      <td>50003.880000</td>\n",
       "      <td>20385.720000</td>\n",
       "      <td>138831.630000</td>\n",
       "      <td>91778.730000</td>\n",
       "      <td>438329.220000</td>\n",
       "      <td>24650.010000</td>\n",
       "      <td>681462.900000</td>\n",
       "      <td>397884.300000</td>\n",
       "      <td>2.203474e+07</td>\n",
       "      <td>1.000000</td>\n",
       "    </tr>\n",
       "  </tbody>\n",
       "</table>\n",
       "</div>"
      ],
      "text/plain": [
       "                  ID           var3      ...              var38        TARGET\n",
       "count   76020.000000   76020.000000      ...       7.602000e+04  76020.000000\n",
       "mean    75964.050723   -1523.199277      ...       1.172358e+05      0.039569\n",
       "std     43781.947379   39033.462364      ...       1.826646e+05      0.194945\n",
       "min         1.000000 -999999.000000      ...       5.163750e+03      0.000000\n",
       "25%     38104.750000       2.000000      ...       6.787061e+04      0.000000\n",
       "50%     76043.000000       2.000000      ...       1.064092e+05      0.000000\n",
       "75%    113748.750000       2.000000      ...       1.187563e+05      0.000000\n",
       "max    151838.000000     238.000000      ...       2.203474e+07      1.000000\n",
       "\n",
       "[8 rows x 371 columns]"
      ]
     },
     "execution_count": 4,
     "metadata": {},
     "output_type": "execute_result"
    }
   ],
   "source": [
    "# basic statistics\n",
    "train.describe()"
   ]
  },
  {
   "cell_type": "code",
   "execution_count": 5,
   "metadata": {
    "_cell_guid": "ba8d087a-d4f6-4210-bed5-064729bc08a6",
    "_uuid": "95ce29ece1c7e45ce74b62f7365c5db78a56c060"
   },
   "outputs": [
    {
     "data": {
      "text/html": [
       "<div>\n",
       "<style scoped>\n",
       "    .dataframe tbody tr th:only-of-type {\n",
       "        vertical-align: middle;\n",
       "    }\n",
       "\n",
       "    .dataframe tbody tr th {\n",
       "        vertical-align: top;\n",
       "    }\n",
       "\n",
       "    .dataframe thead th {\n",
       "        text-align: right;\n",
       "    }\n",
       "</style>\n",
       "<table border=\"1\" class=\"dataframe\">\n",
       "  <thead>\n",
       "    <tr style=\"text-align: right;\">\n",
       "      <th></th>\n",
       "      <th>var3</th>\n",
       "      <th>var15</th>\n",
       "      <th>num_var46</th>\n",
       "      <th>saldo_var27</th>\n",
       "      <th>var38</th>\n",
       "      <th>TARGET</th>\n",
       "    </tr>\n",
       "  </thead>\n",
       "  <tbody>\n",
       "    <tr>\n",
       "      <th>count</th>\n",
       "      <td>76020.000000</td>\n",
       "      <td>76020.000000</td>\n",
       "      <td>76020.0</td>\n",
       "      <td>76020.0</td>\n",
       "      <td>7.602000e+04</td>\n",
       "      <td>76020.000000</td>\n",
       "    </tr>\n",
       "    <tr>\n",
       "      <th>mean</th>\n",
       "      <td>-1523.199277</td>\n",
       "      <td>33.212865</td>\n",
       "      <td>0.0</td>\n",
       "      <td>0.0</td>\n",
       "      <td>1.172358e+05</td>\n",
       "      <td>0.039569</td>\n",
       "    </tr>\n",
       "    <tr>\n",
       "      <th>std</th>\n",
       "      <td>39033.462364</td>\n",
       "      <td>12.956486</td>\n",
       "      <td>0.0</td>\n",
       "      <td>0.0</td>\n",
       "      <td>1.826646e+05</td>\n",
       "      <td>0.194945</td>\n",
       "    </tr>\n",
       "    <tr>\n",
       "      <th>min</th>\n",
       "      <td>-999999.000000</td>\n",
       "      <td>5.000000</td>\n",
       "      <td>0.0</td>\n",
       "      <td>0.0</td>\n",
       "      <td>5.163750e+03</td>\n",
       "      <td>0.000000</td>\n",
       "    </tr>\n",
       "    <tr>\n",
       "      <th>25%</th>\n",
       "      <td>2.000000</td>\n",
       "      <td>23.000000</td>\n",
       "      <td>0.0</td>\n",
       "      <td>0.0</td>\n",
       "      <td>6.787061e+04</td>\n",
       "      <td>0.000000</td>\n",
       "    </tr>\n",
       "    <tr>\n",
       "      <th>50%</th>\n",
       "      <td>2.000000</td>\n",
       "      <td>28.000000</td>\n",
       "      <td>0.0</td>\n",
       "      <td>0.0</td>\n",
       "      <td>1.064092e+05</td>\n",
       "      <td>0.000000</td>\n",
       "    </tr>\n",
       "    <tr>\n",
       "      <th>75%</th>\n",
       "      <td>2.000000</td>\n",
       "      <td>40.000000</td>\n",
       "      <td>0.0</td>\n",
       "      <td>0.0</td>\n",
       "      <td>1.187563e+05</td>\n",
       "      <td>0.000000</td>\n",
       "    </tr>\n",
       "    <tr>\n",
       "      <th>max</th>\n",
       "      <td>238.000000</td>\n",
       "      <td>105.000000</td>\n",
       "      <td>0.0</td>\n",
       "      <td>0.0</td>\n",
       "      <td>2.203474e+07</td>\n",
       "      <td>1.000000</td>\n",
       "    </tr>\n",
       "  </tbody>\n",
       "</table>\n",
       "</div>"
      ],
      "text/plain": [
       "                var3         var15      ...              var38        TARGET\n",
       "count   76020.000000  76020.000000      ...       7.602000e+04  76020.000000\n",
       "mean    -1523.199277     33.212865      ...       1.172358e+05      0.039569\n",
       "std     39033.462364     12.956486      ...       1.826646e+05      0.194945\n",
       "min   -999999.000000      5.000000      ...       5.163750e+03      0.000000\n",
       "25%         2.000000     23.000000      ...       6.787061e+04      0.000000\n",
       "50%         2.000000     28.000000      ...       1.064092e+05      0.000000\n",
       "75%         2.000000     40.000000      ...       1.187563e+05      0.000000\n",
       "max       238.000000    105.000000      ...       2.203474e+07      1.000000\n",
       "\n",
       "[8 rows x 6 columns]"
      ]
     },
     "execution_count": 5,
     "metadata": {},
     "output_type": "execute_result"
    }
   ],
   "source": [
    "# Due to the high number of features (i.e. 370), it will be focused on a sample of features.\n",
    "train[['var3', 'var15', 'num_var46', 'saldo_var27', 'var38','TARGET']].describe()"
   ]
  },
  {
   "cell_type": "code",
   "execution_count": 6,
   "metadata": {
    "_cell_guid": "e52b4ee4-473d-414f-8552-988954016e8d",
    "_uuid": "9e683258f18771154af50b3520efe97c11dc77df"
   },
   "outputs": [
    {
     "name": "stdout",
     "output_type": "stream",
     "text": [
      "done\n"
     ]
    }
   ],
   "source": [
    "# finding outliers in features\n",
    "def find_outliers(df):\n",
    "    outliers = {}\n",
    "    for feature in df.columns.values:\n",
    "        q1 = df[feature].quantile(0.25)\n",
    "        q3 = df[feature].quantile(0.75)\n",
    "        iqr = q3-q1 #Interquartile range\n",
    "        fence_low  = q1-1.5*iqr\n",
    "        fence_high = q3+1.5*iqr\n",
    "        count = count_outliers(df[feature], fence_low, fence_high)\n",
    "        outliers.update({feature: count})\n",
    "    return outliers\n",
    "def count_outliers(df, low, high):\n",
    "    count = 0\n",
    "    for v in df.values:\n",
    "        if v > high or v < low:\n",
    "            count +=1\n",
    "    return count\n",
    "\n",
    "result = find_outliers(train)\n",
    "print('done')"
   ]
  },
  {
   "cell_type": "code",
   "execution_count": 7,
   "metadata": {
    "_cell_guid": "3407b7e1-ac7e-4bce-9ac2-6e218cca3475",
    "_uuid": "d27df0bbbf42248a3048c17a2cbf2cae9fa8123a"
   },
   "outputs": [
    {
     "name": "stdout",
     "output_type": "stream",
     "text": [
      "ID  :  0\n",
      "TARGET  :  0\n",
      "delta_imp_amort_var18_1y3  :  0\n",
      "delta_imp_amort_var34_1y3  :  0\n",
      "delta_imp_aport_var13_1y3  :  0\n",
      "delta_imp_aport_var17_1y3  :  0\n",
      "delta_imp_aport_var33_1y3  :  0\n",
      "delta_imp_compra_var44_1y3  :  0\n",
      "delta_imp_reemb_var13_1y3  :  0\n",
      "delta_imp_reemb_var17_1y3  :  0\n",
      "delta_imp_reemb_var33_1y3  :  0\n",
      "delta_imp_trasp_var17_in_1y3  :  0\n",
      "delta_imp_trasp_var17_out_1y3  :  0\n",
      "delta_imp_trasp_var33_in_1y3  :  0\n",
      "delta_imp_trasp_var33_out_1y3  :  0\n",
      "delta_imp_venta_var44_1y3  :  0\n",
      "delta_num_aport_var13_1y3  :  0\n",
      "delta_num_aport_var17_1y3  :  0\n",
      "delta_num_aport_var33_1y3  :  0\n",
      "delta_num_compra_var44_1y3  :  0\n",
      "delta_num_reemb_var13_1y3  :  0\n",
      "delta_num_reemb_var17_1y3  :  0\n",
      "delta_num_reemb_var33_1y3  :  0\n",
      "delta_num_trasp_var17_in_1y3  :  0\n",
      "delta_num_trasp_var17_out_1y3  :  0\n",
      "delta_num_trasp_var33_in_1y3  :  0\n",
      "delta_num_trasp_var33_out_1y3  :  0\n",
      "delta_num_venta_var44_1y3  :  0\n",
      "imp_amort_var18_hace3  :  0\n",
      "imp_amort_var18_ult1  :  0\n",
      "imp_amort_var34_hace3  :  0\n",
      "imp_amort_var34_ult1  :  0\n",
      "imp_aport_var13_hace3  :  0\n",
      "imp_aport_var13_ult1  :  0\n",
      "imp_aport_var17_hace3  :  0\n",
      "imp_aport_var17_ult1  :  0\n",
      "imp_aport_var33_hace3  :  0\n",
      "imp_aport_var33_ult1  :  0\n",
      "imp_compra_var44_hace3  :  0\n",
      "imp_compra_var44_ult1  :  0\n",
      "imp_ent_var16_ult1  :  1\n",
      "imp_op_var39_comer_ult1  :  1\n",
      "imp_op_var39_comer_ult3  :  1\n",
      "imp_op_var39_efect_ult1  :  1\n",
      "imp_op_var39_efect_ult3  :  1\n",
      "imp_op_var39_ult1  :  1\n",
      "imp_op_var40_comer_ult1  :  1\n",
      "imp_op_var40_comer_ult3  :  1\n",
      "imp_op_var40_efect_ult1  :  1\n",
      "imp_op_var40_efect_ult3  :  1\n",
      "imp_op_var40_ult1  :  1\n",
      "imp_op_var41_comer_ult1  :  2\n",
      "imp_op_var41_comer_ult3  :  2\n",
      "imp_op_var41_efect_ult1  :  2\n",
      "imp_op_var41_efect_ult3  :  2\n",
      "imp_op_var41_ult1  :  2\n",
      "imp_reemb_var13_hace3  :  2\n",
      "imp_reemb_var13_ult1  :  2\n",
      "imp_reemb_var17_hace3  :  2\n",
      "imp_reemb_var17_ult1  :  2\n",
      "imp_reemb_var33_hace3  :  2\n",
      "imp_reemb_var33_ult1  :  2\n",
      "imp_sal_var16_ult1  :  2\n",
      "imp_trans_var37_ult1  :  2\n",
      "imp_trasp_var17_in_hace3  :  2\n",
      "imp_trasp_var17_in_ult1  :  2\n",
      "imp_trasp_var17_out_hace3  :  2\n",
      "imp_trasp_var17_out_ult1  :  2\n",
      "imp_trasp_var33_in_hace3  :  2\n",
      "imp_trasp_var33_in_ult1  :  2\n",
      "imp_trasp_var33_out_hace3  :  2\n",
      "imp_trasp_var33_out_ult1  :  2\n",
      "imp_var43_emit_ult1  :  2\n",
      "imp_var7_emit_ult1  :  2\n",
      "imp_var7_recib_ult1  :  2\n",
      "imp_venta_var44_hace3  :  2\n",
      "imp_venta_var44_ult1  :  2\n",
      "ind_var1  :  2\n",
      "ind_var10_ult1  :  2\n",
      "ind_var10cte_ult1  :  2\n",
      "ind_var12  :  2\n",
      "ind_var12_0  :  2\n",
      "ind_var13  :  3\n",
      "ind_var13_0  :  3\n",
      "ind_var13_corto  :  3\n",
      "ind_var13_corto_0  :  3\n",
      "ind_var13_largo  :  3\n",
      "ind_var13_largo_0  :  3\n",
      "ind_var13_medio  :  3\n",
      "ind_var13_medio_0  :  4\n",
      "ind_var14  :  4\n",
      "ind_var14_0  :  4\n",
      "ind_var17  :  4\n",
      "ind_var17_0  :  4\n",
      "ind_var18  :  4\n",
      "ind_var18_0  :  4\n",
      "ind_var19  :  4\n",
      "ind_var1_0  :  5\n",
      "ind_var2  :  5\n",
      "ind_var20  :  5\n",
      "ind_var20_0  :  6\n",
      "ind_var24  :  6\n",
      "ind_var24_0  :  6\n",
      "ind_var25  :  6\n",
      "ind_var25_0  :  7\n",
      "ind_var25_cte  :  7\n",
      "ind_var26  :  7\n",
      "ind_var26_0  :  8\n",
      "ind_var26_cte  :  8\n",
      "ind_var27  :  8\n",
      "ind_var27_0  :  8\n",
      "ind_var28  :  11\n",
      "ind_var28_0  :  11\n",
      "ind_var29  :  17\n",
      "ind_var29_0  :  19\n",
      "ind_var2_0  :  20\n",
      "ind_var30  :  20\n",
      "ind_var30_0  :  21\n",
      "ind_var31  :  21\n",
      "ind_var31_0  :  22\n",
      "ind_var32  :  22\n",
      "ind_var32_0  :  23\n",
      "ind_var32_cte  :  23\n",
      "ind_var33  :  24\n",
      "ind_var33_0  :  24\n",
      "ind_var34  :  32\n",
      "ind_var34_0  :  32\n",
      "ind_var37  :  32\n",
      "ind_var37_0  :  36\n",
      "ind_var37_cte  :  38\n",
      "ind_var39  :  38\n",
      "ind_var39_0  :  38\n",
      "ind_var40  :  38\n",
      "ind_var40_0  :  38\n",
      "ind_var41  :  38\n",
      "ind_var41_0  :  43\n",
      "ind_var43_emit_ult1  :  44\n",
      "ind_var43_recib_ult1  :  44\n",
      "ind_var44  :  44\n",
      "ind_var44_0  :  44\n",
      "ind_var46  :  45\n",
      "ind_var46_0  :  45\n",
      "ind_var5  :  45\n",
      "ind_var5_0  :  45\n",
      "ind_var6  :  48\n",
      "ind_var6_0  :  48\n",
      "ind_var7_emit_ult1  :  48\n",
      "ind_var7_recib_ult1  :  48\n",
      "ind_var8  :  48\n",
      "ind_var8_0  :  48\n",
      "ind_var9_cte_ult1  :  57\n",
      "ind_var9_ult1  :  57\n",
      "num_aport_var13_hace3  :  59\n",
      "num_aport_var13_ult1  :  60\n",
      "num_aport_var17_hace3  :  82\n",
      "num_aport_var17_ult1  :  82\n",
      "num_aport_var33_hace3  :  82\n",
      "num_aport_var33_ult1  :  82\n",
      "num_compra_var44_hace3  :  82\n",
      "num_compra_var44_ult1  :  84\n",
      "num_ent_var16_ult1  :  84\n",
      "num_med_var22_ult3  :  90\n",
      "num_med_var45_ult3  :  92\n",
      "num_meses_var12_ult3  :  96\n",
      "num_meses_var13_corto_ult3  :  96\n",
      "num_meses_var13_largo_ult3  :  97\n",
      "num_meses_var13_medio_ult3  :  99\n",
      "num_meses_var17_ult3  :  102\n",
      "num_meses_var29_ult3  :  102\n",
      "num_meses_var33_ult3  :  110\n",
      "num_meses_var39_vig_ult3  :  110\n",
      "num_meses_var44_ult3  :  110\n",
      "num_meses_var5_ult3  :  118\n",
      "num_meses_var8_ult3  :  118\n",
      "num_op_var39_comer_ult1  :  123\n",
      "num_op_var39_comer_ult3  :  129\n",
      "num_op_var39_efect_ult1  :  129\n",
      "num_op_var39_efect_ult3  :  129\n",
      "num_op_var39_hace2  :  137\n",
      "num_op_var39_hace3  :  137\n",
      "num_op_var39_ult1  :  141\n",
      "num_op_var39_ult3  :  141\n",
      "num_op_var40_comer_ult1  :  143\n",
      "num_op_var40_comer_ult3  :  143\n",
      "num_op_var40_efect_ult1  :  143\n",
      "num_op_var40_efect_ult3  :  205\n",
      "num_op_var40_hace2  :  205\n",
      "num_op_var40_hace3  :  205\n",
      "num_op_var40_ult1  :  205\n",
      "num_op_var40_ult3  :  205\n",
      "num_op_var41_comer_ult1  :  205\n",
      "num_op_var41_comer_ult3  :  229\n",
      "num_op_var41_efect_ult1  :  229\n",
      "num_op_var41_efect_ult3  :  248\n",
      "num_op_var41_hace2  :  276\n",
      "num_op_var41_hace3  :  276\n",
      "num_op_var41_ult1  :  279\n",
      "num_op_var41_ult3  :  279\n",
      "num_reemb_var13_hace3  :  279\n",
      "num_reemb_var13_ult1  :  283\n",
      "num_reemb_var17_hace3  :  283\n",
      "num_reemb_var17_ult1  :  283\n",
      "num_reemb_var33_hace3  :  283\n",
      "num_reemb_var33_ult1  :  283\n",
      "num_sal_var16_ult1  :  286\n",
      "num_trasp_var11_ult1  :  286\n",
      "num_trasp_var17_in_hace3  :  286\n",
      "num_trasp_var17_in_ult1  :  295\n",
      "num_trasp_var17_out_hace3  :  295\n",
      "num_trasp_var17_out_ult1  :  298\n",
      "num_trasp_var33_in_hace3  :  319\n",
      "num_trasp_var33_in_ult1  :  325\n",
      "num_trasp_var33_out_hace3  :  325\n",
      "num_trasp_var33_out_ult1  :  343\n",
      "num_var1  :  348\n",
      "num_var12  :  348\n",
      "num_var12_0  :  357\n",
      "num_var13  :  401\n",
      "num_var13_0  :  401\n",
      "num_var13_corto  :  403\n",
      "num_var13_corto_0  :  403\n",
      "num_var13_largo  :  403\n",
      "num_var13_largo_0  :  484\n",
      "num_var13_medio  :  488\n",
      "num_var13_medio_0  :  537\n",
      "num_var14  :  537\n",
      "num_var14_0  :  543\n",
      "num_var17  :  760\n",
      "num_var17_0  :  760\n",
      "num_var18  :  760\n",
      "num_var18_0  :  773\n",
      "num_var1_0  :  773\n",
      "num_var20  :  868\n",
      "num_var20_0  :  868\n",
      "num_var22_hace2  :  868\n",
      "num_var22_hace3  :  871\n",
      "num_var22_ult1  :  871\n",
      "num_var22_ult3  :  976\n",
      "num_var24  :  983\n",
      "num_var24_0  :  1286\n",
      "num_var25  :  1363\n",
      "num_var25_0  :  1392\n",
      "num_var26  :  1636\n",
      "num_var26_0  :  1706\n",
      "num_var27  :  1706\n",
      "num_var27_0  :  1797\n",
      "num_var28  :  1797\n",
      "num_var28_0  :  1797\n",
      "num_var29  :  1797\n",
      "num_var29_0  :  1797\n",
      "num_var2_0_ult1  :  1798\n",
      "num_var2_ult1  :  1798\n",
      "num_var30  :  1855\n",
      "num_var30_0  :  1873\n",
      "num_var31  :  1873\n",
      "num_var31_0  :  1873\n",
      "num_var32  :  1873\n",
      "num_var32_0  :  1873\n",
      "num_var33  :  2009\n",
      "num_var33_0  :  2050\n",
      "num_var34  :  2072\n",
      "num_var34_0  :  2095\n",
      "num_var35  :  2174\n",
      "num_var37  :  2174\n",
      "num_var37_0  :  2174\n",
      "num_var37_med_ult2  :  2199\n",
      "num_var39  :  2199\n",
      "num_var39_0  :  2215\n",
      "num_var4  :  2354\n",
      "num_var40  :  2496\n",
      "num_var40_0  :  2496\n",
      "num_var41  :  2880\n",
      "num_var41_0  :  2880\n",
      "num_var42  :  2880\n",
      "num_var42_0  :  2973\n",
      "num_var43_emit_ult1  :  2996\n",
      "num_var43_recib_ult1  :  3008\n",
      "num_var44  :  3153\n",
      "num_var44_0  :  3153\n",
      "num_var45_hace2  :  3153\n",
      "num_var45_hace3  :  3184\n",
      "num_var45_ult1  :  3184\n",
      "num_var45_ult3  :  3191\n",
      "num_var46  :  3221\n",
      "num_var46_0  :  3221\n",
      "num_var5  :  3260\n",
      "num_var5_0  :  3264\n",
      "num_var6  :  3264\n",
      "num_var6_0  :  3456\n",
      "num_var7_emit_ult1  :  3456\n",
      "num_var7_recib_ult1  :  3456\n",
      "num_var8  :  3476\n",
      "num_var8_0  :  3476\n",
      "num_venta_var44_hace3  :  3483\n",
      "num_venta_var44_ult1  :  3568\n",
      "saldo_medio_var12_hace2  :  3684\n",
      "saldo_medio_var12_hace3  :  3719\n",
      "saldo_medio_var12_ult1  :  3719\n",
      "saldo_medio_var12_ult3  :  3866\n",
      "saldo_medio_var13_corto_hace2  :  3866\n",
      "saldo_medio_var13_corto_hace3  :  3866\n",
      "saldo_medio_var13_corto_ult1  :  3972\n",
      "saldo_medio_var13_corto_ult3  :  3972\n",
      "saldo_medio_var13_largo_hace2  :  4961\n",
      "saldo_medio_var13_largo_hace3  :  4961\n",
      "saldo_medio_var13_largo_ult1  :  4961\n",
      "saldo_medio_var13_largo_ult3  :  4961\n",
      "saldo_medio_var13_medio_hace2  :  4961\n",
      "saldo_medio_var13_medio_hace3  :  5062\n",
      "saldo_medio_var13_medio_ult1  :  5062\n",
      "saldo_medio_var13_medio_ult3  :  5062\n",
      "saldo_medio_var17_hace2  :  5133\n",
      "saldo_medio_var17_hace3  :  5133\n",
      "saldo_medio_var17_ult1  :  5496\n",
      "saldo_medio_var17_ult3  :  5653\n",
      "saldo_medio_var29_hace2  :  5778\n",
      "saldo_medio_var29_hace3  :  6148\n",
      "saldo_medio_var29_ult1  :  6244\n",
      "saldo_medio_var29_ult3  :  6530\n",
      "saldo_medio_var33_hace2  :  6531\n",
      "saldo_medio_var33_hace3  :  6684\n",
      "saldo_medio_var33_ult1  :  6684\n",
      "saldo_medio_var33_ult3  :  6695\n",
      "saldo_medio_var44_hace2  :  6695\n",
      "saldo_medio_var44_hace3  :  7006\n",
      "saldo_medio_var44_ult1  :  7364\n",
      "saldo_medio_var44_ult3  :  7934\n",
      "saldo_medio_var5_hace2  :  8067\n",
      "saldo_medio_var5_hace3  :  8341\n",
      "saldo_medio_var5_ult1  :  8411\n",
      "saldo_medio_var5_ult3  :  8648\n",
      "saldo_medio_var8_hace2  :  8648\n",
      "saldo_medio_var8_hace3  :  8660\n",
      "saldo_medio_var8_ult1  :  8660\n",
      "saldo_medio_var8_ult3  :  9065\n",
      "saldo_var1  :  9177\n",
      "saldo_var12  :  9593\n",
      "saldo_var13  :  9794\n",
      "saldo_var13_corto  :  9794\n",
      "saldo_var13_largo  :  9830\n",
      "saldo_var13_medio  :  9830\n",
      "saldo_var14  :  9830\n",
      "saldo_var17  :  9945\n",
      "saldo_var18  :  9945\n",
      "saldo_var20  :  10622\n",
      "saldo_var24  :  10721\n",
      "saldo_var25  :  11007\n",
      "saldo_var26  :  11119\n",
      "saldo_var27  :  11254\n",
      "saldo_var28  :  11254\n",
      "saldo_var29  :  11540\n",
      "saldo_var2_ult1  :  11540\n",
      "saldo_var30  :  11632\n",
      "saldo_var31  :  11632\n",
      "saldo_var32  :  11690\n",
      "saldo_var33  :  11690\n",
      "saldo_var34  :  11704\n",
      "saldo_var37  :  11749\n",
      "saldo_var40  :  11749\n",
      "saldo_var41  :  12291\n",
      "saldo_var42  :  13019\n",
      "saldo_var44  :  13146\n",
      "saldo_var46  :  13665\n",
      "saldo_var5  :  13720\n",
      "saldo_var6  :  13776\n",
      "saldo_var8  :  14140\n",
      "var15  :  14196\n",
      "var21  :  14864\n",
      "var3  :  15281\n",
      "var36  :  15479\n",
      "var38  :  15983\n"
     ]
    }
   ],
   "source": [
    "# Sorting all features based on amount of outliers.\n",
    "outliers_result = {}\n",
    "features = sorted(result)\n",
    "values = sorted(result.values())\n",
    "\n",
    "for f,v in zip(features, values):\n",
    "    outliers_result.update({f:v})\n",
    "\n",
    "for k,v in outliers_result.items():\n",
    "    print(k, \" : \", v)"
   ]
  },
  {
   "cell_type": "markdown",
   "metadata": {
    "_cell_guid": "0d3dbc02-b6fe-4dab-88a3-c36d793f9309",
    "_uuid": "16c462a0ec07b3381324a40239abf34e809cf184"
   },
   "source": [
    "Using feature sample above, it found that:\n",
    "*  feature (var3) has 15281 outliers\n",
    "*  feature (var15) has 14196 outliers\n",
    "*  feature (num_var46) has 3221 outliers\n",
    "*  feature (saldo_var27) has 11254 outliers\n",
    "*  feature (var38) has 15983 outliers\n",
    "*  feature (TARGET) has 0 outliers\n",
    "\n",
    "Removing all features outliers will reduce the data-set dramatically, so this issue should be handled by using algorithms that are robust to outliers. "
   ]
  },
  {
   "cell_type": "markdown",
   "metadata": {
    "_cell_guid": "aff94c9c-d2cc-45fb-8510-79888685f13e",
    "_uuid": "e3747fa5629c6afb1bce4336d98d588e4e20456f",
    "collapsed": true
   },
   "source": [
    "\n",
    "**Exploratory Visualization**"
   ]
  },
  {
   "cell_type": "code",
   "execution_count": 8,
   "metadata": {
    "_cell_guid": "c8554705-084e-419a-9605-3822cf2689a3",
    "_uuid": "cb646ccd7ac8fdcc9fff5b87f9a95f30ed52015a"
   },
   "outputs": [
    {
     "data": {
      "text/plain": [
       "0    73012\n",
       "1     3008\n",
       "Name: TARGET, dtype: int64"
      ]
     },
     "execution_count": 8,
     "metadata": {},
     "output_type": "execute_result"
    }
   ],
   "source": [
    "# counting each class in TARGET variable.\n",
    "# 0: un-satisfied, 1: satisfied\n",
    "train['TARGET'].value_counts()"
   ]
  },
  {
   "cell_type": "code",
   "execution_count": 9,
   "metadata": {
    "_cell_guid": "64730a44-9047-40ce-a85d-7305a0a7da43",
    "_uuid": "dfdba518895f580fb425ae5fff4f51482c0b7b7b"
   },
   "outputs": [
    {
     "data": {
      "image/png": "[encoded data removed]",
      "text/plain": [
       "<matplotlib.figure.Figure at 0x7fb635906a58>"
      ]
     },
     "metadata": {},
     "output_type": "display_data"
    }
   ],
   "source": [
    "%matplotlib inline\n",
    "# a plot visualizes the imbalance in TARGET variable. \n",
    "train['TARGET'].plot(kind='hist')\n",
    "plt.show()"
   ]
  },
  {
   "cell_type": "code",
   "execution_count": 10,
   "metadata": {
    "_cell_guid": "6687a18a-95c7-4c27-87d0-8603f8efd30c",
    "_uuid": "72ddf074b50996733c8ca97dd0807dd285849671"
   },
   "outputs": [
    {
     "data": {
      "image/png": "[encoded data removed]",
      "text/plain": [
       "<matplotlib.figure.Figure at 0x7fb635835f28>"
      ]
     },
     "metadata": {},
     "output_type": "display_data"
    }
   ],
   "source": [
    "%matplotlib inline\n",
    "# a plot visualizes the distribution of features 'var3', 'var15', 'num_var46', 'saldo_var27', 'var38','TARGET'.\n",
    "train[['var3', 'var15', 'num_var46', 'saldo_var27', 'var38','TARGET']].hist(figsize=(12, 6),  bins=100)\n",
    "plt.show()"
   ]
  },
  {
   "cell_type": "code",
   "execution_count": 11,
   "metadata": {
    "_cell_guid": "0da612c3-8ebd-4ee6-9bb9-343b74af5473",
    "_uuid": "004a02488df0a8e338d1b5706128a0fd6899b690"
   },
   "outputs": [
    {
     "data": {
      "image/png": "[encoded data removed]",
      "text/plain": [
       "<matplotlib.figure.Figure at 0x7fb6335ec358>"
      ]
     },
     "metadata": {},
     "output_type": "display_data"
    }
   ],
   "source": [
    "%matplotlib inline\n",
    "# box plot to visualize the outliers of 'var3', 'var15', 'num_var46', 'saldo_var27', 'var38','TARGET'.\n",
    "train[['var3', 'var15', 'num_var46', 'saldo_var27', 'var38','TARGET']].plot(kind='box', subplots=True, figsize=(12, 6))\n",
    "plt.show()"
   ]
  },
  {
   "cell_type": "markdown",
   "metadata": {
    "_cell_guid": "67e73204-f0a8-43a8-9310-00458d062ae0",
    "_uuid": "9d3885771be51b30535b479180379d1eec86549b"
   },
   "source": [
    "**Data setup**\n",
    "\n",
    "- Seperate the labels.\n",
    "- Drop TARGET, ID variables from training set.\n",
    "- Drop ID variables from testing set."
   ]
  },
  {
   "cell_type": "code",
   "execution_count": 12,
   "metadata": {
    "_cell_guid": "4dfe7a6d-b590-497b-93f2-980dca6426bf",
    "_uuid": "00ec809f4dd91b8beaf2ad81ce468208b1976afd"
   },
   "outputs": [
    {
     "name": "stdout",
     "output_type": "stream",
     "text": [
      "(76020, 369) = (75818, 369)\n"
     ]
    }
   ],
   "source": [
    "# Dropping target and ids from traning and testing data-sets\n",
    "labels =  train['TARGET']\n",
    "ids = test['ID']\n",
    "train.drop(['TARGET', 'ID'], axis = 1, inplace = True)\n",
    "test.drop(['ID'], axis = 1, inplace = True)\n",
    "print(train.shape, '=', test.shape)"
   ]
  },
  {
   "cell_type": "markdown",
   "metadata": {
    "_cell_guid": "80d7c2db-15fd-414a-8b3a-7cb3b7ccc0bb",
    "_uuid": "9dc48aa38be956e265e84ef5db4d65a997a38243"
   },
   "source": [
    "**Data Preprocessing**\n",
    "\n",
    "- Remove constant columns, handle missing values and apply PCA on training and testing sets"
   ]
  },
  {
   "cell_type": "code",
   "execution_count": 13,
   "metadata": {
    "_cell_guid": "484ab70d-2b00-4a78-9fb3-572a2f56a3d3",
    "_uuid": "5102ba3730263fcbbd94d0a8dfce1022fdc9ef4c"
   },
   "outputs": [
    {
     "name": "stdout",
     "output_type": "stream",
     "text": [
      " >> Constant columes:  ['ind_var2_0', 'ind_var2', 'ind_var27_0', 'ind_var28_0', 'ind_var28', 'ind_var27', 'ind_var41', 'ind_var46_0', 'ind_var46', 'num_var27_0', 'num_var28_0', 'num_var28', 'num_var27', 'num_var41', 'num_var46_0', 'num_var46', 'saldo_var28', 'saldo_var27', 'saldo_var41', 'saldo_var46', 'imp_amort_var18_hace3', 'imp_amort_var34_hace3', 'imp_reemb_var13_hace3', 'imp_reemb_var33_hace3', 'imp_trasp_var17_out_hace3', 'imp_trasp_var33_out_hace3', 'num_var2_0_ult1', 'num_var2_ult1', 'num_reemb_var13_hace3', 'num_reemb_var33_hace3', 'num_trasp_var17_out_hace3', 'num_trasp_var33_out_hace3', 'saldo_var2_ult1', 'saldo_medio_var13_medio_hace3']\n",
      ">> train shape after removing constant columns:  (76020, 335)\n"
     ]
    }
   ],
   "source": [
    "# 1st setp: remove constant columns in training data\n",
    "remove = []\n",
    "for col in train.columns:\n",
    "    if train[col].std() == 0:\n",
    "        remove.append(col)\n",
    "print(\" >> Constant columes: \",remove)\n",
    "train.drop(remove, axis=1, inplace=True)\n",
    "print('>> train shape after removing constant columns: ', train.shape)"
   ]
  },
  {
   "cell_type": "code",
   "execution_count": 14,
   "metadata": {
    "_cell_guid": "cd1d629e-8695-4302-a7a3-5472c1920cb3",
    "_uuid": "98169c44f41029d6e227c46f7c0efae9af156c41"
   },
   "outputs": [
    {
     "name": "stdout",
     "output_type": "stream",
     "text": [
      "var3                             116\n",
      "var15                              0\n",
      "imp_ent_var16_ult1                 0\n",
      "imp_op_var39_comer_ult1            0\n",
      "imp_op_var39_comer_ult3            0\n",
      "imp_op_var40_comer_ult1            0\n",
      "imp_op_var40_comer_ult3            0\n",
      "imp_op_var40_efect_ult1            0\n",
      "imp_op_var40_efect_ult3            0\n",
      "imp_op_var40_ult1                  0\n",
      "imp_op_var41_comer_ult1            0\n",
      "imp_op_var41_comer_ult3            0\n",
      "imp_op_var41_efect_ult1            0\n",
      "imp_op_var41_efect_ult3            0\n",
      "imp_op_var41_ult1                  0\n",
      "imp_op_var39_efect_ult1            0\n",
      "imp_op_var39_efect_ult3            0\n",
      "imp_op_var39_ult1                  0\n",
      "imp_sal_var16_ult1                 0\n",
      "ind_var1_0                         0\n",
      "ind_var1                           0\n",
      "ind_var5_0                         0\n",
      "ind_var5                           0\n",
      "ind_var6_0                         0\n",
      "ind_var6                           0\n",
      "ind_var8_0                         0\n",
      "ind_var8                           0\n",
      "ind_var12_0                        0\n",
      "ind_var12                          0\n",
      "ind_var13_0                        0\n",
      "                                ... \n",
      "saldo_medio_var12_ult1             0\n",
      "saldo_medio_var12_ult3             0\n",
      "saldo_medio_var13_corto_hace2      0\n",
      "saldo_medio_var13_corto_hace3      0\n",
      "saldo_medio_var13_corto_ult1       0\n",
      "saldo_medio_var13_corto_ult3       0\n",
      "saldo_medio_var13_largo_hace2      0\n",
      "saldo_medio_var13_largo_hace3      0\n",
      "saldo_medio_var13_largo_ult1       0\n",
      "saldo_medio_var13_largo_ult3       0\n",
      "saldo_medio_var13_medio_hace2      0\n",
      "saldo_medio_var13_medio_ult1       0\n",
      "saldo_medio_var13_medio_ult3       0\n",
      "saldo_medio_var17_hace2            0\n",
      "saldo_medio_var17_hace3            0\n",
      "saldo_medio_var17_ult1             0\n",
      "saldo_medio_var17_ult3             0\n",
      "saldo_medio_var29_hace2            0\n",
      "saldo_medio_var29_hace3            0\n",
      "saldo_medio_var29_ult1             0\n",
      "saldo_medio_var29_ult3             0\n",
      "saldo_medio_var33_hace2            0\n",
      "saldo_medio_var33_hace3            0\n",
      "saldo_medio_var33_ult1             0\n",
      "saldo_medio_var33_ult3             0\n",
      "saldo_medio_var44_hace2            0\n",
      "saldo_medio_var44_hace3            0\n",
      "saldo_medio_var44_ult1             0\n",
      "saldo_medio_var44_ult3             0\n",
      "var38                              0\n",
      "Length: 335, dtype: int64\n"
     ]
    }
   ],
   "source": [
    "# 2nd step: handle missing values in training set\n",
    "print((train == -999999).sum())"
   ]
  },
  {
   "cell_type": "code",
   "execution_count": 15,
   "metadata": {
    "_cell_guid": "5d175c90-e0cf-4ce4-9fdf-baf6179bcdc8",
    "_uuid": "710a8b950c03c3b7fb91bc6c532a7896146aacb4"
   },
   "outputs": [
    {
     "data": {
      "text/plain": [
       "0          2\n",
       "1          2\n",
       "2          2\n",
       "3          2\n",
       "4          2\n",
       "5          2\n",
       "6          2\n",
       "7          2\n",
       "8          2\n",
       "9          2\n",
       "10         2\n",
       "11         2\n",
       "12         2\n",
       "13         2\n",
       "14         2\n",
       "15         2\n",
       "16         2\n",
       "17         2\n",
       "18       229\n",
       "19         2\n",
       "20         2\n",
       "21         2\n",
       "22         2\n",
       "23         2\n",
       "24         2\n",
       "25         2\n",
       "26         2\n",
       "27         2\n",
       "28         2\n",
       "29         2\n",
       "        ... \n",
       "75990      2\n",
       "75991      2\n",
       "75992      2\n",
       "75993      2\n",
       "75994      2\n",
       "75995      2\n",
       "75996      2\n",
       "75997      2\n",
       "75998      2\n",
       "75999      2\n",
       "76000      2\n",
       "76001      2\n",
       "76002      2\n",
       "76003      2\n",
       "76004      2\n",
       "76005      2\n",
       "76006      2\n",
       "76007      2\n",
       "76008      2\n",
       "76009      2\n",
       "76010      2\n",
       "76011      2\n",
       "76012      4\n",
       "76013      2\n",
       "76014      2\n",
       "76015      2\n",
       "76016      2\n",
       "76017      2\n",
       "76018      2\n",
       "76019      2\n",
       "Name: var3, Length: 76020, dtype: int64"
      ]
     },
     "execution_count": 15,
     "metadata": {},
     "output_type": "execute_result"
    }
   ],
   "source": [
    "# var3 has 116 missing values.\n",
    "# one way to handle this issue by replacing these values with the mode of var3\n",
    "train['var3'].replace(-999999,train['var3'].mode())"
   ]
  },
  {
   "cell_type": "code",
   "execution_count": 16,
   "metadata": {
    "_cell_guid": "ef3cb7b4-2f95-4043-903c-63dfe5a5ebf9",
    "_uuid": "9297fbc34185a9323dd68dfb2a210f0925652271",
    "collapsed": true
   },
   "outputs": [],
   "source": [
    "# 3rd step: Scaling the training data\n",
    "from sklearn.preprocessing import StandardScaler\n",
    "scaler = StandardScaler()\n",
    "scaler.fit(train)\n",
    "scaled_train = scaler.transform(train)"
   ]
  },
  {
   "cell_type": "code",
   "execution_count": 17,
   "metadata": {
    "_cell_guid": "4a6027f0-aa19-4f83-9931-0d533ee8f143",
    "_uuid": "e4b10b5b165b5a6f2f18f0055c4a203e74535a7a",
    "collapsed": true
   },
   "outputs": [],
   "source": [
    "# Scaling the test data\n",
    "scaler = StandardScaler()\n",
    "scaler.fit(test)\n",
    "scaled_test = scaler.transform(test)"
   ]
  },
  {
   "cell_type": "markdown",
   "metadata": {
    "_cell_guid": "a4f365cf-f884-49c2-8000-d59adb43827c",
    "_uuid": "924c03f24ea41e95da620dfef300196ad81d002f"
   },
   "source": [
    "**Pipe Line**\n",
    "\n",
    "Build a pipeline to training, test a model and plot ROC curve"
   ]
  },
  {
   "cell_type": "code",
   "execution_count": 18,
   "metadata": {
    "_cell_guid": "d5e0180c-2bb9-44a5-8f38-850e23e6dff1",
    "_uuid": "461553789bce14678dcb38522cdf78a538481df3",
    "collapsed": true
   },
   "outputs": [],
   "source": [
    "# Creating a Training and Predicting Pipeline\n",
    "from sklearn.metrics import roc_auc_score\n",
    "from sklearn.metrics import roc_curve\n",
    "import time\n",
    "def train_predict(learner, X_train, y_train, X_test, y_test): \n",
    "    '''\n",
    "    inputs:\n",
    "       - learner: the learning algorithm to be trained and predicted on\n",
    "       - X_train: features training set\n",
    "       - y_train: labels training set\n",
    "       - X_test: features testing set\n",
    "       - y_test: labels testing set\n",
    "    '''\n",
    "    \n",
    "    results = {}\n",
    "    start = time.time() # Get start time\n",
    "    learner = learner.fit(X_train, y_train)\n",
    "    end = time.time() # Get end time \n",
    "    # Calculate the training time\n",
    "    results['train_time'] = end - start\n",
    "    \n",
    "    start = time.time() # Get start time\n",
    "    predictions_test = learner.predict_proba(X_test)[:,1]\n",
    "    end = time.time() # Get end time \n",
    "    # Calculate the total prediction time\n",
    "    results['pred_time'] = end - start\n",
    "    \n",
    "    # Compute roc_auc_score\n",
    "    results['roc_auc_score'] = roc_auc_score(y_test, predictions_test)\n",
    "    \n",
    "    # plot roc_curve\n",
    "    fpr, tpr, thresholds = roc_curve(y_test, predictions_test)\n",
    "    plt.figure()\n",
    "    plt.plot(fpr, tpr, label='%s (area = %0.5f)' % (learner.__class__.__name__, results['roc_auc_score']))\n",
    "    plt.plot([0, 1], [0, 1],'r--')\n",
    "    plt.xlim([0.0, 1.0])\n",
    "    plt.ylim([0.0, 1.05])\n",
    "    plt.xlabel('False Positive Rate')\n",
    "    plt.ylabel('True Positive Rate')\n",
    "    plt.title('Receiver operating characteristic')\n",
    "    plt.legend(loc=\"lower right\")\n",
    "    plt.savefig('Log_ROC')\n",
    "    plt.show()\n",
    "    \n",
    "    # Success\n",
    "    print(\"{} is trained.\".format(learner.__class__.__name__))\n",
    "        \n",
    "    # Return the results\n",
    "    return results"
   ]
  },
  {
   "cell_type": "markdown",
   "metadata": {
    "_cell_guid": "bff2f439-20c6-4088-8583-bbdc3d514fe7",
    "_uuid": "1465c873b3d0afe05620b4b50b44cf575b8dd8c3",
    "collapsed": true
   },
   "source": [
    "**Benchmark**\n",
    "\n",
    "The benchmark model is *LogisticRegression* on  data using all the features."
   ]
  },
  {
   "cell_type": "code",
   "execution_count": 19,
   "metadata": {
    "_cell_guid": "f23c6a4f-e7b4-4268-a4cd-3a3c2d0ec2ea",
    "_uuid": "0c80614c62ba4491ec8b9087fd17cf496381efe1"
   },
   "outputs": [
    {
     "name": "stderr",
     "output_type": "stream",
     "text": [
      "/opt/conda/lib/python3.6/site-packages/sklearn/cross_validation.py:41: DeprecationWarning: This module was deprecated in version 0.18 in favor of the model_selection module into which all the refactored classes and functions are moved. Also note that the interface of the new CV iterators are different from that of this module. This module will be removed in 0.20.\n",
      "  \"This module will be removed in 0.20.\", DeprecationWarning)\n"
     ]
    }
   ],
   "source": [
    "from sklearn.cross_validation import train_test_split\n",
    "\n",
    "# Split the unscaled traning data into training and testing sets\n",
    "# Reserve the last 15204 raw of traning set for final testing\n",
    "bX_train, bX_test, by_train, by_test = train_test_split(train[:60817], labels[:60817], test_size = 0.2, random_state = 0)\n",
    "\n",
    "# Split the scaled traning data into training and testing sets\n",
    "# Reserve the last 15204 raw of traning set for final testing\n",
    "bsX_train, bsX_test, bsy_train, bsy_test = train_test_split(scaled_train[:60817], labels[:60817], test_size = 0.2, random_state = 0)"
   ]
  },
  {
   "cell_type": "code",
   "execution_count": 20,
   "metadata": {
    "_cell_guid": "d77782c2-12f0-44e3-9e41-f5cc332c1e2a",
    "_uuid": "4d46ea1d6c2e437a7601a4460c61fcf264b7028b"
   },
   "outputs": [
    {
     "data": {
      "image/png": "[encoded data removed]",
      "text/plain": [
       "<matplotlib.figure.Figure at 0x7fb62c176c50>"
      ]
     },
     "metadata": {},
     "output_type": "display_data"
    },
    {
     "name": "stdout",
     "output_type": "stream",
     "text": [
      "LogisticRegression is trained.\n",
      "Benchmark results using unscaled data :  {'train_time': 2.069526195526123, 'pred_time': 0.027390718460083008, 'roc_auc_score': 0.60253110415696642}\n"
     ]
    }
   ],
   "source": [
    "# Test the benchmark model using unscaled data\n",
    "from sklearn.linear_model import LogisticRegression\n",
    "lg = LogisticRegression()\n",
    "Logistic_results =  train_predict(lg, bX_train, by_train, bX_test, by_test)\n",
    "\n",
    "print('Benchmark results using unscaled data : ', Logistic_results)"
   ]
  },
  {
   "cell_type": "code",
   "execution_count": 21,
   "metadata": {
    "_cell_guid": "499de8fc-c7a3-4b85-9c2f-6c6cc6c7a4d4",
    "_uuid": "04c283ec8ab5425dd44bb3c0453181ce66cc5f9e"
   },
   "outputs": [
    {
     "data": {
      "image/png": "[encoded data removed]",
      "text/plain": [
       "<matplotlib.figure.Figure at 0x7fb62c176b38>"
      ]
     },
     "metadata": {},
     "output_type": "display_data"
    },
    {
     "name": "stdout",
     "output_type": "stream",
     "text": [
      "LogisticRegression is trained.\n",
      "Benchmark results using scaled data :  {'train_time': 54.275203227996826, 'pred_time': 0.0052106380462646484, 'roc_auc_score': 0.78147773169754531}\n"
     ]
    }
   ],
   "source": [
    "# using scaled data\n",
    "lg2 = LogisticRegression()\n",
    "Logistic_results2 =  train_predict(lg2, bsX_train, bsy_train, bsX_test, bsy_test)\n",
    "\n",
    "print('Benchmark results using scaled data : ',Logistic_results2)"
   ]
  },
  {
   "cell_type": "markdown",
   "metadata": {
    "_cell_guid": "387d0cdf-4070-4d90-b190-5bd325133993",
    "_uuid": "7ed79dc06e265198009e54e2c08d6035ab144d23",
    "collapsed": true
   },
   "source": [
    "**Implementation**\n",
    "\n",
    "- Apply PCA on training and testing sets.\n",
    "- Test RondomForest using scaled traing data and reduced data using PCA.\n",
    "- Test XgBoost using scaled traing data and reduced data using PCA."
   ]
  },
  {
   "cell_type": "code",
   "execution_count": 22,
   "metadata": {
    "_cell_guid": "45a1aa48-9b5f-45e2-bf57-7f0e54b99e2f",
    "_uuid": "a7b6b7d02f6f26985ce929291128b71f0881786c"
   },
   "outputs": [
    {
     "data": {
      "text/plain": [
       "PCA(copy=True, iterated_power='auto', n_components=90, random_state=None,\n",
       "  svd_solver='auto', tol=0.0, whiten=False)"
      ]
     },
     "execution_count": 22,
     "metadata": {},
     "output_type": "execute_result"
    }
   ],
   "source": [
    "# applay PCA for dimensionality reduction and speed-up ML algorithm by selecting the important features on training and testing sets.\n",
    "from sklearn.decomposition import PCA\n",
    "pca = PCA(n_components=90)\n",
    "pca.fit(scaled_train)"
   ]
  },
  {
   "cell_type": "code",
   "execution_count": 23,
   "metadata": {
    "_cell_guid": "9a99914f-f1d1-4b4c-b557-bf0e2b55fde7",
    "_uuid": "652cc8a1c9877ff5d9d085ff6b061b53f61183b1"
   },
   "outputs": [
    {
     "name": "stdout",
     "output_type": "stream",
     "text": [
      "components:  90\n"
     ]
    }
   ],
   "source": [
    "print('components: ', pca.n_components_)"
   ]
  },
  {
   "cell_type": "code",
   "execution_count": 24,
   "metadata": {
    "_cell_guid": "e80dac6f-6fda-42a0-959e-ab6cedab37b4",
    "_uuid": "5a126d8c5030dfa760e472e8090bd5f2ebd8d22a"
   },
   "outputs": [
    {
     "name": "stdout",
     "output_type": "stream",
     "text": [
      "explained variance 0.93428121329\n"
     ]
    }
   ],
   "source": [
    "print('explained variance', sum(pca.explained_variance_ratio_))"
   ]
  },
  {
   "cell_type": "code",
   "execution_count": 25,
   "metadata": {
    "_cell_guid": "0aee60c4-812d-49ed-8a1c-8d1eaf1ce5aa",
    "_uuid": "1d450ae8f7100563d3ec3ffd4e839ff8b094bd2d"
   },
   "outputs": [
    {
     "name": "stdout",
     "output_type": "stream",
     "text": [
      " training set after transformation:  (76020, 90)\n"
     ]
    }
   ],
   "source": [
    "# applying transformation to the training data\n",
    "t_train = pca.transform(scaled_train)\n",
    "\n",
    "print(' training set after transformation: ',t_train.shape)"
   ]
  },
  {
   "cell_type": "code",
   "execution_count": 26,
   "metadata": {
    "_cell_guid": "dabc9d3f-e1c6-4cce-9503-ae77fe30632b",
    "_uuid": "ee70e030c7d86c5db9afef01fb8b2aeb77e6025f"
   },
   "outputs": [
    {
     "data": {
      "text/plain": [
       "PCA(copy=True, iterated_power='auto', n_components=90, random_state=None,\n",
       "  svd_solver='auto', tol=0.0, whiten=False)"
      ]
     },
     "execution_count": 26,
     "metadata": {},
     "output_type": "execute_result"
    }
   ],
   "source": [
    "# applay PCA for testing sets.\n",
    "from sklearn.decomposition import PCA\n",
    "pca2 = PCA(n_components=90)\n",
    "pca2.fit(scaled_test)"
   ]
  },
  {
   "cell_type": "code",
   "execution_count": 27,
   "metadata": {
    "_cell_guid": "5d0a09b6-c7ba-4237-a574-354bac6c8d56",
    "_uuid": "39fea5ae4d10984334f606b5d34f31afabda6402"
   },
   "outputs": [
    {
     "name": "stdout",
     "output_type": "stream",
     "text": [
      "components:  90\n",
      "explained variance 0.941706603399\n",
      "testing set after transformation:  (75818, 90)\n"
     ]
    }
   ],
   "source": [
    "t_test = pca2.transform(scaled_test)\n",
    "print('components: ', pca2.n_components_)\n",
    "print('explained variance', sum(pca2.explained_variance_ratio_))\n",
    "print('testing set after transformation: ',t_test.shape)"
   ]
  },
  {
   "cell_type": "code",
   "execution_count": 28,
   "metadata": {
    "_cell_guid": "26ace06a-daab-46b8-9fb8-811710bfd140",
    "_uuid": "8dcec7b68d37d7a2f43c1907d2dd75e8c7146e9e",
    "collapsed": true
   },
   "outputs": [],
   "source": [
    "# Split the scaled traning data into training and testing sets\n",
    "# Reserve the last 15204 raw of traning set for final testing\n",
    "X_train, X_test, y_train, y_test = train_test_split(scaled_train[:60817], labels[:60817], test_size = 0.2, random_state = 0)\n",
    "\n",
    "# Split the reduced traning data using PCA into training and testing sets\n",
    "# Reserve the last 15204 raw of traning set for final testing\n",
    "tX_train, tX_test, ty_train, ty_test = train_test_split(t_train[:60817], labels[:60817], test_size = 0.2, random_state = 0)"
   ]
  },
  {
   "cell_type": "markdown",
   "metadata": {
    "_cell_guid": "39b74a30-e7e6-4d52-bf32-c5090490848c",
    "_uuid": "b8fcad7b4f567aebc12110bd065799c52e69ce62"
   },
   "source": [
    "**1st model: Random Forest**"
   ]
  },
  {
   "cell_type": "code",
   "execution_count": 29,
   "metadata": {
    "_cell_guid": "462b81f8-ed48-4bc5-b3be-c69f52827e45",
    "_uuid": "5fb82a5f85b9b7568e2a10def96bb0fbebf3afcf"
   },
   "outputs": [
    {
     "data": {
      "image/png": "[encoded data removed]",
      "text/plain": [
       "<matplotlib.figure.Figure at 0x7fb6358fdcf8>"
      ]
     },
     "metadata": {},
     "output_type": "display_data"
    },
    {
     "name": "stdout",
     "output_type": "stream",
     "text": [
      "RandomForestClassifier is trained.\n",
      "Random Forest result with scaled data:  {'train_time': 24.46407198905945, 'pred_time': 0.6452696323394775, 'roc_auc_score': 0.80739145578643789}\n"
     ]
    }
   ],
   "source": [
    "# 1st model : Random Forest\n",
    "# Using scaled data and reduced data\n",
    "from sklearn.ensemble import RandomForestClassifier\n",
    "\n",
    "clf = RandomForestClassifier(n_estimators=100, max_depth=10)\n",
    "forest_results_scaled =  train_predict(clf, X_train, y_train, X_test, y_test)\n",
    "\n",
    "print('Random Forest result with scaled data: ', forest_results_scaled)"
   ]
  },
  {
   "cell_type": "code",
   "execution_count": 30,
   "metadata": {
    "_cell_guid": "0a9ded97-ca5b-44f7-9c2e-71707ae28c1f",
    "_uuid": "fdcf054583f897646eacb6889a9f8d2c7a47ca35"
   },
   "outputs": [
    {
     "data": {
      "image/png": "[encoded data removed]",
      "text/plain": [
       "<matplotlib.figure.Figure at 0x7fb638015f60>"
      ]
     },
     "metadata": {},
     "output_type": "display_data"
    },
    {
     "name": "stdout",
     "output_type": "stream",
     "text": [
      "RandomForestClassifier is trained.\n",
      "Random Forest result with reduced data:  {'train_time': 40.65064215660095, 'pred_time': 0.4186983108520508, 'roc_auc_score': 0.79739643678285377}\n"
     ]
    }
   ],
   "source": [
    "clf2 = RandomForestClassifier(n_estimators=100, max_depth=10)\n",
    "forest_results_reduced =  train_predict(clf2, tX_train, ty_train, tX_test, ty_test)\n",
    "print('Random Forest result with reduced data: ',forest_results_reduced)"
   ]
  },
  {
   "cell_type": "markdown",
   "metadata": {
    "_cell_guid": "d403370b-cb93-4a73-9a9f-e2eb37ee4066",
    "_uuid": "3ece57aa2d9dcdd7cb7a93c83030ff4d057b5632"
   },
   "source": [
    "**2nd model: Xgboost**"
   ]
  },
  {
   "cell_type": "code",
   "execution_count": 32,
   "metadata": {
    "_cell_guid": "c353249d-1776-4609-8c6c-25e6817ddcd0",
    "_uuid": "fc0ebb59c152d4860f6ce428c53833502b68acdc"
   },
   "outputs": [
    {
     "data": {
      "image/png": "[encoded data removed]",
      "text/plain": [
       "<matplotlib.figure.Figure at 0x7fb633189780>"
      ]
     },
     "metadata": {},
     "output_type": "display_data"
    },
    {
     "name": "stdout",
     "output_type": "stream",
     "text": [
      "XGBClassifier is trained.\n",
      "Xgboost results with scaled:  {'train_time': 31.65391182899475, 'pred_time': 0.052197933197021484, 'roc_auc_score': 0.82567017863008174}\n"
     ]
    }
   ],
   "source": [
    "from xgboost import XGBClassifier\n",
    "\n",
    "xgc = XGBClassifier()\n",
    "Xgboost_results_scaled =  train_predict(xgc, X_train, y_train, X_test, y_test)\n",
    "print('Xgboost results with scaled: ', Xgboost_results_scaled)"
   ]
  },
  {
   "cell_type": "code",
   "execution_count": 33,
   "metadata": {
    "_cell_guid": "da504dde-f94e-4698-9dbf-cfbeacf75da9",
    "_uuid": "f37a712487539f5fb4e7196285f20f192ab5f83f"
   },
   "outputs": [
    {
     "data": {
      "image/png": "[encoded data removed]",
      "text/plain": [
       "<matplotlib.figure.Figure at 0x7fb632feda20>"
      ]
     },
     "metadata": {},
     "output_type": "display_data"
    },
    {
     "name": "stdout",
     "output_type": "stream",
     "text": [
      "XGBClassifier is trained.\n",
      "Xgboost results with reduced:  {'train_time': 32.094810247421265, 'pred_time': 0.04269695281982422, 'roc_auc_score': 0.81286261112494718}\n"
     ]
    }
   ],
   "source": [
    "xgc2 = XGBClassifier()\n",
    "Xgboost_results_reduced =  train_predict(xgc2, tX_train, ty_train, tX_test, ty_test)\n",
    "print('Xgboost results with reduced: ', Xgboost_results_reduced)"
   ]
  },
  {
   "cell_type": "code",
   "execution_count": 51,
   "metadata": {
    "_uuid": "f16e5edf3daa1e8e22e09262e0fa8eb33c78b34e"
   },
   "outputs": [
    {
     "data": {
      "text/plain": [
       "XGBClassifier(base_score=0.5, booster='gbtree', colsample_bylevel=1,\n",
       "       colsample_bytree=1, gamma=0, learning_rate=0.1, max_delta_step=0,\n",
       "       max_depth=3, min_child_weight=1, missing=None, n_estimators=100,\n",
       "       n_jobs=1, nthread=None, objective='binary:logistic', random_state=0,\n",
       "       reg_alpha=0, reg_lambda=1, scale_pos_weight=1, seed=None,\n",
       "       silent=True, subsample=1)"
      ]
     },
     "execution_count": 51,
     "metadata": {},
     "output_type": "execute_result"
    }
   ],
   "source": [
    "# default XgBoost parameters\n",
    "xgc"
   ]
  },
  {
   "cell_type": "markdown",
   "metadata": {
    "_cell_guid": "913204c4-ac56-4c89-8053-d8dfdfaf14f5",
    "_uuid": "e676bea294790f9312ecbb196dd4a57f32754125"
   },
   "source": [
    "**XgBoost model gets higher score using scaled and reduced data, so it will be tunned to get better preformance**"
   ]
  },
  {
   "cell_type": "markdown",
   "metadata": {
    "_cell_guid": "fddc9ed5-d88f-4d4a-9e92-1f1c279c4855",
    "_uuid": "6a5cf5f80f1f64724e9e804662330c0d917ad99a"
   },
   "source": [
    "**Xgboost tuning**\n",
    "\n",
    "As XgBoost gets higher score using default parameters, GridSearchCV will be exhausted search that takes alot of time. Instead, *RandomizedSearchCV*  has a probability of 95% of finding a combination of parameters within the 5% optima with only 60 iterations. Also compared to other methods, it doesn't bog down in local optima."
   ]
  },
  {
   "cell_type": "code",
   "execution_count": 34,
   "metadata": {
    "_cell_guid": "d172ed6a-5cf2-441a-b138-197835345f1a",
    "_uuid": "6fc8de9628f67539db1c7e2ac0481bff5ceab333"
   },
   "outputs": [
    {
     "name": "stdout",
     "output_type": "stream",
     "text": [
      "Fitting 3 folds for each of 60 candidates, totalling 180 fits\n",
      "[CV] subsample=1.0, n_estimators=200, min_child_weight=1, max_depth=4, gamma=1.5, colsample_bytree=0.6 \n",
      "[CV] subsample=1.0, n_estimators=200, min_child_weight=1, max_depth=4, gamma=1.5, colsample_bytree=0.6 \n",
      "[CV] subsample=1.0, n_estimators=200, min_child_weight=1, max_depth=4, gamma=1.5, colsample_bytree=0.6 \n",
      "[CV] subsample=0.6, n_estimators=100, min_child_weight=1, max_depth=5, gamma=5, colsample_bytree=0.8 \n",
      "[CV]  subsample=0.6, n_estimators=100, min_child_weight=1, max_depth=5, gamma=5, colsample_bytree=0.8, score=0.8265198999551081, total=  25.2s\n",
      "[CV] subsample=0.6, n_estimators=100, min_child_weight=1, max_depth=5, gamma=5, colsample_bytree=0.8 \n",
      "[CV]  subsample=1.0, n_estimators=200, min_child_weight=1, max_depth=4, gamma=1.5, colsample_bytree=0.6, score=0.818518925158725, total=  33.9s\n",
      "[CV] subsample=0.6, n_estimators=100, min_child_weight=1, max_depth=5, gamma=5, colsample_bytree=0.8 \n",
      "[CV]  subsample=1.0, n_estimators=200, min_child_weight=1, max_depth=4, gamma=1.5, colsample_bytree=0.6, score=0.8236688770602194, total=  33.8s\n",
      "[CV] subsample=1.0, n_estimators=100, min_child_weight=1, max_depth=5, gamma=1.5, colsample_bytree=1.0 \n",
      "[CV]  subsample=1.0, n_estimators=200, min_child_weight=1, max_depth=4, gamma=1.5, colsample_bytree=0.6, score=0.8089595697115899, total=  34.5s\n",
      "[CV] subsample=1.0, n_estimators=100, min_child_weight=1, max_depth=5, gamma=1.5, colsample_bytree=1.0 \n",
      "[CV]  subsample=0.6, n_estimators=100, min_child_weight=1, max_depth=5, gamma=5, colsample_bytree=0.8, score=0.8262833835695504, total=  25.4s\n",
      "[CV] subsample=1.0, n_estimators=100, min_child_weight=1, max_depth=5, gamma=1.5, colsample_bytree=1.0 \n",
      "[CV]  subsample=0.6, n_estimators=100, min_child_weight=1, max_depth=5, gamma=5, colsample_bytree=0.8, score=0.8116858711256036, total=  24.7s\n",
      "[CV] subsample=0.6, n_estimators=200, min_child_weight=1, max_depth=5, gamma=1, colsample_bytree=0.8 \n",
      "[CV]  subsample=1.0, n_estimators=100, min_child_weight=1, max_depth=5, gamma=1.5, colsample_bytree=1.0, score=0.8242660681074842, total=  34.7s\n",
      "[CV] subsample=0.6, n_estimators=200, min_child_weight=1, max_depth=5, gamma=1, colsample_bytree=0.8 \n",
      "[CV]  subsample=1.0, n_estimators=100, min_child_weight=1, max_depth=5, gamma=1.5, colsample_bytree=1.0, score=0.8209994741230039, total=  35.7s\n",
      "[CV] subsample=0.6, n_estimators=200, min_child_weight=1, max_depth=5, gamma=1, colsample_bytree=0.8 \n",
      "[CV]  subsample=1.0, n_estimators=100, min_child_weight=1, max_depth=5, gamma=1.5, colsample_bytree=1.0, score=0.8100123411721565, total=  36.1s\n",
      "[CV] subsample=1.0, n_estimators=300, min_child_weight=1, max_depth=3, gamma=1.5, colsample_bytree=0.8 \n",
      "[CV]  subsample=0.6, n_estimators=200, min_child_weight=1, max_depth=5, gamma=1, colsample_bytree=0.8, score=0.8130935163214262, total=  49.1s\n",
      "[CV] subsample=1.0, n_estimators=300, min_child_weight=1, max_depth=3, gamma=1.5, colsample_bytree=0.8 \n"
     ]
    },
    {
     "name": "stderr",
     "output_type": "stream",
     "text": [
      "[Parallel(n_jobs=4)]: Done  10 tasks      | elapsed:  1.8min\n"
     ]
    },
    {
     "name": "stdout",
     "output_type": "stream",
     "text": [
      "[CV]  subsample=0.6, n_estimators=200, min_child_weight=1, max_depth=5, gamma=1, colsample_bytree=0.8, score=0.8025448939941822, total=  50.0s\n",
      "[CV] subsample=1.0, n_estimators=300, min_child_weight=1, max_depth=3, gamma=1.5, colsample_bytree=0.8 \n",
      "[CV]  subsample=0.6, n_estimators=200, min_child_weight=1, max_depth=5, gamma=1, colsample_bytree=0.8, score=0.8152034887449497, total=  50.6s\n",
      "[CV] subsample=0.6, n_estimators=100, min_child_weight=1, max_depth=5, gamma=2, colsample_bytree=1.0 \n",
      "[CV]  subsample=1.0, n_estimators=300, min_child_weight=1, max_depth=3, gamma=1.5, colsample_bytree=0.8, score=0.818710344385301, total=  50.6s\n",
      "[CV] subsample=0.6, n_estimators=100, min_child_weight=1, max_depth=5, gamma=2, colsample_bytree=1.0 \n",
      "[CV]  subsample=0.6, n_estimators=100, min_child_weight=1, max_depth=5, gamma=2, colsample_bytree=1.0, score=0.8246787148079266, total=  31.9s\n",
      "[CV] subsample=0.6, n_estimators=100, min_child_weight=1, max_depth=5, gamma=2, colsample_bytree=1.0 \n",
      "[CV]  subsample=1.0, n_estimators=300, min_child_weight=1, max_depth=3, gamma=1.5, colsample_bytree=0.8, score=0.8266460591290964, total=  51.7s\n",
      "[CV] subsample=1.0, n_estimators=300, min_child_weight=10, max_depth=3, gamma=0.5, colsample_bytree=0.6 \n",
      "[CV]  subsample=0.6, n_estimators=100, min_child_weight=1, max_depth=5, gamma=2, colsample_bytree=1.0, score=0.8271934842557558, total=  30.7s\n",
      "[CV] subsample=1.0, n_estimators=300, min_child_weight=10, max_depth=3, gamma=0.5, colsample_bytree=0.6 \n",
      "[CV]  subsample=1.0, n_estimators=300, min_child_weight=1, max_depth=3, gamma=1.5, colsample_bytree=0.8, score=0.808894924497679, total=  50.4s\n",
      "[CV] subsample=1.0, n_estimators=300, min_child_weight=10, max_depth=3, gamma=0.5, colsample_bytree=0.6 \n",
      "[CV]  subsample=0.6, n_estimators=100, min_child_weight=1, max_depth=5, gamma=2, colsample_bytree=1.0, score=0.8063514590702272, total=  31.9s\n",
      "[CV] subsample=0.8, n_estimators=100, min_child_weight=10, max_depth=5, gamma=1, colsample_bytree=0.8 \n",
      "[CV]  subsample=1.0, n_estimators=300, min_child_weight=10, max_depth=3, gamma=0.5, colsample_bytree=0.6, score=0.8246911306355417, total=  40.5s\n",
      "[CV] subsample=0.8, n_estimators=100, min_child_weight=10, max_depth=5, gamma=1, colsample_bytree=0.8 \n",
      "[CV]  subsample=1.0, n_estimators=300, min_child_weight=10, max_depth=3, gamma=0.5, colsample_bytree=0.6, score=0.8249913679215033, total=  38.2s\n",
      "[CV] subsample=0.8, n_estimators=100, min_child_weight=10, max_depth=5, gamma=1, colsample_bytree=0.8 \n",
      "[CV]  subsample=1.0, n_estimators=300, min_child_weight=10, max_depth=3, gamma=0.5, colsample_bytree=0.6, score=0.8077085974640166, total=  38.0s\n",
      "[CV] subsample=1.0, n_estimators=300, min_child_weight=10, max_depth=3, gamma=2, colsample_bytree=0.8 \n",
      "[CV]  subsample=0.8, n_estimators=100, min_child_weight=10, max_depth=5, gamma=1, colsample_bytree=0.8, score=0.8302341820047459, total=  26.4s\n",
      "[CV] subsample=1.0, n_estimators=300, min_child_weight=10, max_depth=3, gamma=2, colsample_bytree=0.8 \n",
      "[CV]  subsample=0.8, n_estimators=100, min_child_weight=10, max_depth=5, gamma=1, colsample_bytree=0.8, score=0.8262441351888667, total=  27.0s\n",
      "[CV] subsample=1.0, n_estimators=300, min_child_weight=10, max_depth=3, gamma=2, colsample_bytree=0.8 \n",
      "[CV]  subsample=0.8, n_estimators=100, min_child_weight=10, max_depth=5, gamma=1, colsample_bytree=0.8, score=0.8109285765966648, total=  27.0s\n",
      "[CV] subsample=0.8, n_estimators=100, min_child_weight=10, max_depth=5, gamma=1.5, colsample_bytree=0.6 \n",
      "[CV]  subsample=0.8, n_estimators=100, min_child_weight=10, max_depth=5, gamma=1.5, colsample_bytree=0.6, score=0.8280108766754313, total=  20.4s\n",
      "[CV] subsample=0.8, n_estimators=100, min_child_weight=10, max_depth=5, gamma=1.5, colsample_bytree=0.6 \n",
      "[CV]  subsample=1.0, n_estimators=300, min_child_weight=10, max_depth=3, gamma=2, colsample_bytree=0.8, score=0.8226393894696338, total=  50.1s\n",
      "[CV] subsample=0.8, n_estimators=100, min_child_weight=10, max_depth=5, gamma=1.5, colsample_bytree=0.6 \n",
      "[CV]  subsample=1.0, n_estimators=300, min_child_weight=10, max_depth=3, gamma=2, colsample_bytree=0.8, score=0.8251166549092541, total=  53.0s\n",
      "[CV] subsample=0.6, n_estimators=300, min_child_weight=5, max_depth=3, gamma=1, colsample_bytree=1.0 \n",
      "[CV]  subsample=0.8, n_estimators=100, min_child_weight=10, max_depth=5, gamma=1.5, colsample_bytree=0.6, score=0.8250034759186815, total=  19.8s\n",
      "[CV] subsample=0.6, n_estimators=300, min_child_weight=5, max_depth=3, gamma=1, colsample_bytree=1.0 \n",
      "[CV]  subsample=1.0, n_estimators=300, min_child_weight=10, max_depth=3, gamma=2, colsample_bytree=0.8, score=0.8072815690636989, total=  51.2s\n",
      "[CV] subsample=0.6, n_estimators=300, min_child_weight=5, max_depth=3, gamma=1, colsample_bytree=1.0 \n",
      "[CV]  subsample=0.8, n_estimators=100, min_child_weight=10, max_depth=5, gamma=1.5, colsample_bytree=0.6, score=0.8139214752839457, total=  20.0s\n",
      "[CV] subsample=1.0, n_estimators=100, min_child_weight=1, max_depth=3, gamma=5, colsample_bytree=0.6 \n",
      "[CV]  subsample=1.0, n_estimators=100, min_child_weight=1, max_depth=3, gamma=5, colsample_bytree=0.6, score=0.8244956583082153, total=  13.6s\n",
      "[CV] subsample=1.0, n_estimators=100, min_child_weight=1, max_depth=3, gamma=5, colsample_bytree=0.6 \n",
      "[CV]  subsample=1.0, n_estimators=100, min_child_weight=1, max_depth=3, gamma=5, colsample_bytree=0.6, score=0.8228435323542616, total=  13.5s\n",
      "[CV] subsample=1.0, n_estimators=100, min_child_weight=1, max_depth=3, gamma=5, colsample_bytree=0.6 \n",
      "[CV]  subsample=0.6, n_estimators=300, min_child_weight=5, max_depth=3, gamma=1, colsample_bytree=1.0, score=0.8199097030718911, total=  55.0s\n",
      "[CV] subsample=0.8, n_estimators=100, min_child_weight=10, max_depth=4, gamma=5, colsample_bytree=0.6 \n",
      "[CV]  subsample=1.0, n_estimators=100, min_child_weight=1, max_depth=3, gamma=5, colsample_bytree=0.6, score=0.8087510914660918, total=  13.0s\n",
      "[CV] subsample=0.8, n_estimators=100, min_child_weight=10, max_depth=4, gamma=5, colsample_bytree=0.6 \n",
      "[CV]  subsample=0.6, n_estimators=300, min_child_weight=5, max_depth=3, gamma=1, colsample_bytree=1.0, score=0.823635887898416, total=  54.9s\n",
      "[CV] subsample=0.8, n_estimators=100, min_child_weight=10, max_depth=4, gamma=5, colsample_bytree=0.6 \n",
      "[CV]  subsample=0.8, n_estimators=100, min_child_weight=10, max_depth=4, gamma=5, colsample_bytree=0.6, score=0.8275442570384146, total=  16.2s\n",
      "[CV] subsample=0.8, n_estimators=200, min_child_weight=1, max_depth=3, gamma=1.5, colsample_bytree=0.8 \n",
      "[CV]  subsample=0.8, n_estimators=100, min_child_weight=10, max_depth=4, gamma=5, colsample_bytree=0.6, score=0.8258985442185596, total=  15.5s\n",
      "[CV] subsample=0.8, n_estimators=200, min_child_weight=1, max_depth=3, gamma=1.5, colsample_bytree=0.8 \n",
      "[CV]  subsample=0.6, n_estimators=300, min_child_weight=5, max_depth=3, gamma=1, colsample_bytree=1.0, score=0.8052344534940893, total=  56.3s\n",
      "[CV] subsample=0.8, n_estimators=200, min_child_weight=1, max_depth=3, gamma=1.5, colsample_bytree=0.8 \n",
      "[CV]  subsample=0.8, n_estimators=100, min_child_weight=10, max_depth=4, gamma=5, colsample_bytree=0.6, score=0.8124924460680089, total=  16.2s\n",
      "[CV] subsample=1.0, n_estimators=200, min_child_weight=5, max_depth=3, gamma=5, colsample_bytree=0.8 \n",
      "[CV]  subsample=0.8, n_estimators=200, min_child_weight=1, max_depth=3, gamma=1.5, colsample_bytree=0.8, score=0.8291697556595907, total=  31.8s\n",
      "[CV] subsample=1.0, n_estimators=200, min_child_weight=5, max_depth=3, gamma=5, colsample_bytree=0.8 \n",
      "[CV]  subsample=0.8, n_estimators=200, min_child_weight=1, max_depth=3, gamma=1.5, colsample_bytree=0.8, score=0.8269194125569166, total=  32.4s\n",
      "[CV] subsample=1.0, n_estimators=200, min_child_weight=5, max_depth=3, gamma=5, colsample_bytree=0.8 \n",
      "[CV]  subsample=0.8, n_estimators=200, min_child_weight=1, max_depth=3, gamma=1.5, colsample_bytree=0.8, score=0.8108386488348651, total=  32.5s\n",
      "[CV] subsample=1.0, n_estimators=300, min_child_weight=5, max_depth=4, gamma=1.5, colsample_bytree=1.0 \n",
      "[CV]  subsample=1.0, n_estimators=200, min_child_weight=5, max_depth=3, gamma=5, colsample_bytree=0.8, score=0.8240815237606618, total=  33.7s\n",
      "[CV] subsample=1.0, n_estimators=300, min_child_weight=5, max_depth=4, gamma=1.5, colsample_bytree=1.0 \n",
      "[CV]  subsample=1.0, n_estimators=200, min_child_weight=5, max_depth=3, gamma=5, colsample_bytree=0.8, score=0.8242196370166099, total=  33.5s\n"
     ]
    },
    {
     "name": "stdout",
     "output_type": "stream",
     "text": [
      "[CV] subsample=1.0, n_estimators=300, min_child_weight=5, max_depth=4, gamma=1.5, colsample_bytree=1.0 \n",
      "[CV]  subsample=1.0, n_estimators=200, min_child_weight=5, max_depth=3, gamma=5, colsample_bytree=0.8, score=0.8104117232091324, total=  34.4s\n",
      "[CV] subsample=0.8, n_estimators=200, min_child_weight=10, max_depth=5, gamma=5, colsample_bytree=1.0 \n",
      "[CV]  subsample=1.0, n_estimators=300, min_child_weight=5, max_depth=4, gamma=1.5, colsample_bytree=1.0, score=0.8153584300647727, total= 1.4min\n",
      "[CV] subsample=0.8, n_estimators=200, min_child_weight=10, max_depth=5, gamma=5, colsample_bytree=1.0 \n",
      "[CV]  subsample=1.0, n_estimators=300, min_child_weight=5, max_depth=4, gamma=1.5, colsample_bytree=1.0, score=0.8227787853524017, total= 1.4min\n",
      "[CV] subsample=0.8, n_estimators=200, min_child_weight=10, max_depth=5, gamma=5, colsample_bytree=1.0 \n",
      "[CV]  subsample=0.8, n_estimators=200, min_child_weight=10, max_depth=5, gamma=5, colsample_bytree=1.0, score=0.8203043929968576, total= 1.1min\n",
      "[CV] subsample=0.8, n_estimators=200, min_child_weight=10, max_depth=5, gamma=1.5, colsample_bytree=0.8 \n",
      "[CV]  subsample=1.0, n_estimators=300, min_child_weight=5, max_depth=4, gamma=1.5, colsample_bytree=1.0, score=0.803480964913579, total= 1.4min\n",
      "[CV] subsample=0.8, n_estimators=200, min_child_weight=10, max_depth=5, gamma=1.5, colsample_bytree=0.8 \n",
      "[CV]  subsample=0.8, n_estimators=200, min_child_weight=10, max_depth=5, gamma=5, colsample_bytree=1.0, score=0.8223821458346694, total= 1.1min\n",
      "[CV] subsample=0.8, n_estimators=200, min_child_weight=10, max_depth=5, gamma=1.5, colsample_bytree=0.8 \n",
      "[CV]  subsample=0.8, n_estimators=200, min_child_weight=10, max_depth=5, gamma=1.5, colsample_bytree=0.8, score=0.8216976335535175, total=  51.9s\n",
      "[CV] subsample=0.6, n_estimators=100, min_child_weight=10, max_depth=5, gamma=2, colsample_bytree=1.0 \n",
      "[CV]  subsample=0.8, n_estimators=200, min_child_weight=10, max_depth=5, gamma=5, colsample_bytree=1.0, score=0.8098128043155459, total= 1.1min\n",
      "[CV] subsample=0.6, n_estimators=100, min_child_weight=10, max_depth=5, gamma=2, colsample_bytree=1.0 \n",
      "[CV]  subsample=0.8, n_estimators=200, min_child_weight=10, max_depth=5, gamma=1.5, colsample_bytree=0.8, score=0.8222398768678254, total=  50.2s\n",
      "[CV] subsample=0.6, n_estimators=100, min_child_weight=10, max_depth=5, gamma=2, colsample_bytree=1.0 \n",
      "[CV]  subsample=0.6, n_estimators=100, min_child_weight=10, max_depth=5, gamma=2, colsample_bytree=1.0, score=0.8305032771115245, total=  30.0s\n",
      "[CV] subsample=1.0, n_estimators=100, min_child_weight=1, max_depth=4, gamma=2, colsample_bytree=0.6 \n",
      "[CV]  subsample=0.6, n_estimators=100, min_child_weight=10, max_depth=5, gamma=2, colsample_bytree=1.0, score=0.8250018341563523, total=  29.9s\n",
      "[CV] subsample=1.0, n_estimators=100, min_child_weight=1, max_depth=4, gamma=2, colsample_bytree=0.6 \n",
      "[CV]  subsample=0.6, n_estimators=100, min_child_weight=10, max_depth=5, gamma=2, colsample_bytree=1.0, score=0.8104908082522237, total=  29.6s\n",
      "[CV] subsample=1.0, n_estimators=100, min_child_weight=1, max_depth=4, gamma=2, colsample_bytree=0.6 \n",
      "[CV]  subsample=1.0, n_estimators=100, min_child_weight=1, max_depth=4, gamma=2, colsample_bytree=0.6, score=0.8262896427884308, total=  17.2s\n",
      "[CV] subsample=0.8, n_estimators=200, min_child_weight=10, max_depth=3, gamma=1.5, colsample_bytree=0.8 \n",
      "[CV]  subsample=0.8, n_estimators=200, min_child_weight=10, max_depth=5, gamma=1.5, colsample_bytree=0.8, score=0.8107457919973953, total=  52.8s\n",
      "[CV] subsample=0.8, n_estimators=200, min_child_weight=10, max_depth=3, gamma=1.5, colsample_bytree=0.8 \n",
      "[CV]  subsample=1.0, n_estimators=100, min_child_weight=1, max_depth=4, gamma=2, colsample_bytree=0.6, score=0.8243759635733984, total=  16.8s\n",
      "[CV] subsample=0.8, n_estimators=200, min_child_weight=10, max_depth=3, gamma=1.5, colsample_bytree=0.8 \n",
      "[CV]  subsample=1.0, n_estimators=100, min_child_weight=1, max_depth=4, gamma=2, colsample_bytree=0.6, score=0.8096996494975556, total=  17.1s\n",
      "[CV] subsample=0.6, n_estimators=200, min_child_weight=1, max_depth=3, gamma=1, colsample_bytree=0.6 \n",
      "[CV]  subsample=0.8, n_estimators=200, min_child_weight=10, max_depth=3, gamma=1.5, colsample_bytree=0.8, score=0.8287018020906818, total=  30.2s\n",
      "[CV] subsample=0.6, n_estimators=200, min_child_weight=1, max_depth=3, gamma=1, colsample_bytree=0.6 \n",
      "[CV]  subsample=0.6, n_estimators=200, min_child_weight=1, max_depth=3, gamma=1, colsample_bytree=0.6, score=0.8234703777335983, total=  23.3s\n",
      "[CV] subsample=0.6, n_estimators=200, min_child_weight=1, max_depth=3, gamma=1, colsample_bytree=0.6 \n",
      "[CV]  subsample=0.8, n_estimators=200, min_child_weight=10, max_depth=3, gamma=1.5, colsample_bytree=0.8, score=0.8110004160315197, total=  29.8s\n",
      "[CV] subsample=1.0, n_estimators=300, min_child_weight=10, max_depth=5, gamma=5, colsample_bytree=0.6 \n",
      "[CV]  subsample=0.8, n_estimators=200, min_child_weight=10, max_depth=3, gamma=1.5, colsample_bytree=0.8, score=0.8268800615660874, total=  32.6s\n",
      "[CV] subsample=1.0, n_estimators=300, min_child_weight=10, max_depth=5, gamma=5, colsample_bytree=0.6 \n"
     ]
    },
    {
     "name": "stderr",
     "output_type": "stream",
     "text": [
      "[Parallel(n_jobs=4)]: Done  64 tasks      | elapsed: 10.1min\n"
     ]
    },
    {
     "name": "stdout",
     "output_type": "stream",
     "text": [
      "[CV]  subsample=0.6, n_estimators=200, min_child_weight=1, max_depth=3, gamma=1, colsample_bytree=0.6, score=0.8258069133585582, total=  22.0s\n",
      "[CV] subsample=1.0, n_estimators=300, min_child_weight=10, max_depth=5, gamma=5, colsample_bytree=0.6 \n",
      "[CV]  subsample=0.6, n_estimators=200, min_child_weight=1, max_depth=3, gamma=1, colsample_bytree=0.6, score=0.808924163867087, total=  22.0s\n",
      "[CV] subsample=1.0, n_estimators=300, min_child_weight=5, max_depth=4, gamma=1.5, colsample_bytree=0.6 \n",
      "[CV]  subsample=1.0, n_estimators=300, min_child_weight=10, max_depth=5, gamma=5, colsample_bytree=0.6, score=0.82463315590329, total= 1.0min\n",
      "[CV] subsample=1.0, n_estimators=300, min_child_weight=5, max_depth=4, gamma=1.5, colsample_bytree=0.6 \n",
      "[CV]  subsample=1.0, n_estimators=300, min_child_weight=10, max_depth=5, gamma=5, colsample_bytree=0.6, score=0.8233544282690951, total= 1.0min\n",
      "[CV] subsample=1.0, n_estimators=300, min_child_weight=5, max_depth=4, gamma=1.5, colsample_bytree=0.6 \n",
      "[CV]  subsample=1.0, n_estimators=300, min_child_weight=5, max_depth=4, gamma=1.5, colsample_bytree=0.6, score=0.8164411723209132, total=  48.5s\n",
      "[CV] subsample=0.6, n_estimators=200, min_child_weight=5, max_depth=3, gamma=0.5, colsample_bytree=1.0 \n",
      "[CV]  subsample=1.0, n_estimators=300, min_child_weight=10, max_depth=5, gamma=5, colsample_bytree=0.6, score=0.8074152274113796, total=  59.4s\n",
      "[CV] subsample=0.6, n_estimators=200, min_child_weight=5, max_depth=3, gamma=0.5, colsample_bytree=1.0 \n",
      "[CV]  subsample=0.6, n_estimators=200, min_child_weight=5, max_depth=3, gamma=0.5, colsample_bytree=1.0, score=0.8221243378439044, total=  35.7s\n",
      "[CV] subsample=0.6, n_estimators=200, min_child_weight=5, max_depth=3, gamma=0.5, colsample_bytree=1.0 \n",
      "[CV]  subsample=0.6, n_estimators=200, min_child_weight=5, max_depth=3, gamma=0.5, colsample_bytree=1.0, score=0.8258459565189508, total=  36.0s\n",
      "[CV] subsample=0.6, n_estimators=100, min_child_weight=10, max_depth=4, gamma=5, colsample_bytree=0.8 \n",
      "[CV]  subsample=1.0, n_estimators=300, min_child_weight=5, max_depth=4, gamma=1.5, colsample_bytree=0.6, score=0.8252875008016416, total=  51.6s\n",
      "[CV] subsample=0.6, n_estimators=100, min_child_weight=10, max_depth=4, gamma=5, colsample_bytree=0.8 \n",
      "[CV]  subsample=1.0, n_estimators=300, min_child_weight=5, max_depth=4, gamma=1.5, colsample_bytree=0.6, score=0.8030677083076396, total=  51.8s\n",
      "[CV] subsample=0.6, n_estimators=100, min_child_weight=10, max_depth=4, gamma=5, colsample_bytree=0.8 \n",
      "[CV]  subsample=0.6, n_estimators=100, min_child_weight=10, max_depth=4, gamma=5, colsample_bytree=0.8, score=0.8264596164945809, total=  19.2s\n",
      "[CV] subsample=1.0, n_estimators=100, min_child_weight=1, max_depth=4, gamma=1, colsample_bytree=0.8 \n",
      "[CV]  subsample=0.6, n_estimators=100, min_child_weight=10, max_depth=4, gamma=5, colsample_bytree=0.8, score=0.8281515551850187, total=  19.5s\n",
      "[CV] subsample=1.0, n_estimators=100, min_child_weight=1, max_depth=4, gamma=1, colsample_bytree=0.8 \n",
      "[CV]  subsample=0.6, n_estimators=100, min_child_weight=10, max_depth=4, gamma=5, colsample_bytree=0.8, score=0.8116746173085557, total=  19.7s\n",
      "[CV] subsample=1.0, n_estimators=100, min_child_weight=1, max_depth=4, gamma=1, colsample_bytree=0.8 \n",
      "[CV]  subsample=0.6, n_estimators=200, min_child_weight=5, max_depth=3, gamma=0.5, colsample_bytree=1.0, score=0.8075775598682512, total=  37.6s\n",
      "[CV] subsample=1.0, n_estimators=200, min_child_weight=10, max_depth=3, gamma=1.5, colsample_bytree=1.0 \n",
      "[CV]  subsample=1.0, n_estimators=100, min_child_weight=1, max_depth=4, gamma=1, colsample_bytree=0.8, score=0.8242792535111909, total=  22.1s\n",
      "[CV] subsample=1.0, n_estimators=200, min_child_weight=10, max_depth=3, gamma=1.5, colsample_bytree=1.0 \n",
      "[CV]  subsample=1.0, n_estimators=100, min_child_weight=1, max_depth=4, gamma=1, colsample_bytree=0.8, score=0.8238355159366382, total=  22.3s\n",
      "[CV] subsample=1.0, n_estimators=200, min_child_weight=10, max_depth=3, gamma=1.5, colsample_bytree=1.0 \n",
      "[CV]  subsample=1.0, n_estimators=100, min_child_weight=1, max_depth=4, gamma=1, colsample_bytree=0.8, score=0.8098687136897391, total=  23.9s\n",
      "[CV] subsample=0.8, n_estimators=100, min_child_weight=1, max_depth=3, gamma=1, colsample_bytree=0.6 \n",
      "[CV]  subsample=0.8, n_estimators=100, min_child_weight=1, max_depth=3, gamma=1, colsample_bytree=0.6, score=0.8270580901686654, total=  13.0s\n",
      "[CV] subsample=0.8, n_estimators=100, min_child_weight=1, max_depth=3, gamma=1, colsample_bytree=0.6 \n",
      "[CV]  subsample=0.8, n_estimators=100, min_child_weight=1, max_depth=3, gamma=1, colsample_bytree=0.6, score=0.8259333290579106, total=  12.9s\n",
      "[CV] subsample=0.8, n_estimators=100, min_child_weight=1, max_depth=3, gamma=1, colsample_bytree=0.6 \n",
      "[CV]  subsample=1.0, n_estimators=200, min_child_weight=10, max_depth=3, gamma=1.5, colsample_bytree=1.0, score=0.8236752388892452, total=  43.1s\n",
      "[CV] subsample=0.8, n_estimators=200, min_child_weight=1, max_depth=4, gamma=1, colsample_bytree=0.8 \n",
      "[CV]  subsample=1.0, n_estimators=200, min_child_weight=10, max_depth=3, gamma=1.5, colsample_bytree=1.0, score=0.8223912781376258, total=  40.8s\n",
      "[CV] subsample=0.8, n_estimators=200, min_child_weight=1, max_depth=4, gamma=1, colsample_bytree=0.8 \n",
      "[CV]  subsample=1.0, n_estimators=200, min_child_weight=10, max_depth=3, gamma=1.5, colsample_bytree=1.0, score=0.808032029082741, total=  41.5s\n",
      "[CV] subsample=0.8, n_estimators=200, min_child_weight=1, max_depth=4, gamma=1, colsample_bytree=0.8 \n",
      "[CV]  subsample=0.8, n_estimators=100, min_child_weight=1, max_depth=3, gamma=1, colsample_bytree=0.6, score=0.8096906053340832, total=  13.1s\n",
      "[CV] subsample=0.8, n_estimators=300, min_child_weight=10, max_depth=5, gamma=1.5, colsample_bytree=1.0 \n",
      "[CV]  subsample=0.8, n_estimators=200, min_child_weight=1, max_depth=4, gamma=1, colsample_bytree=0.8, score=0.8207676778041428, total=  43.9s\n",
      "[CV] subsample=0.8, n_estimators=300, min_child_weight=10, max_depth=5, gamma=1.5, colsample_bytree=1.0 \n",
      "[CV]  subsample=0.8, n_estimators=200, min_child_weight=1, max_depth=4, gamma=1, colsample_bytree=0.8, score=0.8246296671583403, total=  42.8s\n",
      "[CV] subsample=0.8, n_estimators=300, min_child_weight=10, max_depth=5, gamma=1.5, colsample_bytree=1.0 \n",
      "[CV]  subsample=0.8, n_estimators=200, min_child_weight=1, max_depth=4, gamma=1, colsample_bytree=0.8, score=0.8085585946685477, total=  43.1s\n",
      "[CV] subsample=0.6, n_estimators=200, min_child_weight=10, max_depth=4, gamma=0.5, colsample_bytree=0.8 \n",
      "[CV]  subsample=0.6, n_estimators=200, min_child_weight=10, max_depth=4, gamma=0.5, colsample_bytree=0.8, score=0.827701301866222, total=  38.4s\n",
      "[CV] subsample=0.6, n_estimators=200, min_child_weight=10, max_depth=4, gamma=0.5, colsample_bytree=0.8 \n",
      "[CV]  subsample=0.8, n_estimators=300, min_child_weight=10, max_depth=5, gamma=1.5, colsample_bytree=1.0, score=0.8161909061758481, total= 1.6min\n",
      "[CV] subsample=0.6, n_estimators=200, min_child_weight=10, max_depth=4, gamma=0.5, colsample_bytree=0.8 \n",
      "[CV]  subsample=0.6, n_estimators=200, min_child_weight=10, max_depth=4, gamma=0.5, colsample_bytree=0.8, score=0.8220513820303983, total=  38.8s\n",
      "[CV] subsample=0.8, n_estimators=100, min_child_weight=10, max_depth=5, gamma=2, colsample_bytree=0.8 \n",
      "[CV]  subsample=0.8, n_estimators=300, min_child_weight=10, max_depth=5, gamma=1.5, colsample_bytree=1.0, score=0.8118424421214647, total= 1.6min\n",
      "[CV] subsample=0.8, n_estimators=100, min_child_weight=10, max_depth=5, gamma=2, colsample_bytree=0.8 \n",
      "[CV]  subsample=0.8, n_estimators=300, min_child_weight=10, max_depth=5, gamma=1.5, colsample_bytree=1.0, score=0.8050940120238044, total= 1.6min\n",
      "[CV] subsample=0.8, n_estimators=100, min_child_weight=10, max_depth=5, gamma=2, colsample_bytree=0.8 \n",
      "[CV]  subsample=0.6, n_estimators=200, min_child_weight=10, max_depth=4, gamma=0.5, colsample_bytree=0.8, score=0.8070847043462962, total=  39.7s\n",
      "[CV] subsample=0.6, n_estimators=300, min_child_weight=5, max_depth=4, gamma=5, colsample_bytree=0.8 \n",
      "[CV]  subsample=0.8, n_estimators=100, min_child_weight=10, max_depth=5, gamma=2, colsample_bytree=0.8, score=0.8271293016096967, total=  25.8s\n",
      "[CV] subsample=0.6, n_estimators=300, min_child_weight=5, max_depth=4, gamma=5, colsample_bytree=0.8 \n",
      "[CV]  subsample=0.8, n_estimators=100, min_child_weight=10, max_depth=5, gamma=2, colsample_bytree=0.8, score=0.8237558391585968, total=  26.0s\n"
     ]
    },
    {
     "name": "stdout",
     "output_type": "stream",
     "text": [
      "[CV] subsample=0.6, n_estimators=300, min_child_weight=5, max_depth=4, gamma=5, colsample_bytree=0.8 \n",
      "[CV]  subsample=0.8, n_estimators=100, min_child_weight=10, max_depth=5, gamma=2, colsample_bytree=0.8, score=0.8114239500959503, total=  27.1s\n",
      "[CV] subsample=1.0, n_estimators=100, min_child_weight=5, max_depth=4, gamma=5, colsample_bytree=0.6 \n",
      "[CV]  subsample=1.0, n_estimators=100, min_child_weight=5, max_depth=4, gamma=5, colsample_bytree=0.6, score=0.8266017828512795, total=  18.0s\n",
      "[CV] subsample=1.0, n_estimators=100, min_child_weight=5, max_depth=4, gamma=5, colsample_bytree=0.6 \n",
      "[CV]  subsample=0.6, n_estimators=300, min_child_weight=5, max_depth=4, gamma=5, colsample_bytree=0.8, score=0.8140529211825819, total=  59.1s\n",
      "[CV] subsample=1.0, n_estimators=100, min_child_weight=5, max_depth=4, gamma=5, colsample_bytree=0.6 \n",
      "[CV]  subsample=1.0, n_estimators=100, min_child_weight=5, max_depth=4, gamma=5, colsample_bytree=0.6, score=0.8259567241711026, total=  18.0s\n",
      "[CV] subsample=0.8, n_estimators=100, min_child_weight=10, max_depth=5, gamma=5, colsample_bytree=0.8 \n",
      "[CV]  subsample=0.6, n_estimators=300, min_child_weight=5, max_depth=4, gamma=5, colsample_bytree=0.8, score=0.8239437696402232, total=  59.0s\n",
      "[CV] subsample=0.8, n_estimators=100, min_child_weight=10, max_depth=5, gamma=5, colsample_bytree=0.8 \n",
      "[CV]  subsample=0.6, n_estimators=300, min_child_weight=5, max_depth=4, gamma=5, colsample_bytree=0.8, score=0.8069080862221214, total=  58.1s\n",
      "[CV] subsample=0.8, n_estimators=100, min_child_weight=10, max_depth=5, gamma=5, colsample_bytree=0.8 \n",
      "[CV]  subsample=1.0, n_estimators=100, min_child_weight=5, max_depth=4, gamma=5, colsample_bytree=0.6, score=0.8108470763508281, total=  18.1s\n",
      "[CV] subsample=0.6, n_estimators=200, min_child_weight=5, max_depth=5, gamma=1, colsample_bytree=0.8 \n",
      "[CV]  subsample=0.8, n_estimators=100, min_child_weight=10, max_depth=5, gamma=5, colsample_bytree=0.8, score=0.8265304688001025, total=  26.6s\n",
      "[CV] subsample=0.6, n_estimators=200, min_child_weight=5, max_depth=5, gamma=1, colsample_bytree=0.8 \n",
      "[CV]  subsample=0.8, n_estimators=100, min_child_weight=10, max_depth=5, gamma=5, colsample_bytree=0.8, score=0.8251118322324119, total=  25.8s\n",
      "[CV] subsample=0.6, n_estimators=200, min_child_weight=5, max_depth=5, gamma=1, colsample_bytree=0.8 \n",
      "[CV]  subsample=0.8, n_estimators=100, min_child_weight=10, max_depth=5, gamma=5, colsample_bytree=0.8, score=0.813338486451021, total=  26.0s\n",
      "[CV] subsample=0.6, n_estimators=200, min_child_weight=1, max_depth=3, gamma=2, colsample_bytree=1.0 \n",
      "[CV]  subsample=0.6, n_estimators=200, min_child_weight=5, max_depth=5, gamma=1, colsample_bytree=0.8, score=0.8178324632848073, total=  49.1s\n",
      "[CV] subsample=0.6, n_estimators=200, min_child_weight=1, max_depth=3, gamma=2, colsample_bytree=1.0 \n",
      "[CV]  subsample=0.6, n_estimators=200, min_child_weight=5, max_depth=5, gamma=1, colsample_bytree=0.8, score=0.8162552427371257, total=  49.9s\n",
      "[CV] subsample=0.6, n_estimators=200, min_child_weight=1, max_depth=3, gamma=2, colsample_bytree=1.0 \n",
      "[CV]  subsample=0.6, n_estimators=200, min_child_weight=5, max_depth=5, gamma=1, colsample_bytree=0.8, score=0.8023882141394807, total=  47.4s\n",
      "[CV] subsample=1.0, n_estimators=300, min_child_weight=10, max_depth=5, gamma=1.5, colsample_bytree=0.6 \n",
      "[CV]  subsample=0.6, n_estimators=200, min_child_weight=1, max_depth=3, gamma=2, colsample_bytree=1.0, score=0.8252816520233438, total=  37.6s\n",
      "[CV] subsample=1.0, n_estimators=300, min_child_weight=10, max_depth=5, gamma=1.5, colsample_bytree=0.6 \n",
      "[CV]  subsample=0.6, n_estimators=200, min_child_weight=1, max_depth=3, gamma=2, colsample_bytree=1.0, score=0.8256196498428782, total=  36.0s\n",
      "[CV] subsample=1.0, n_estimators=300, min_child_weight=10, max_depth=5, gamma=1.5, colsample_bytree=0.6 \n",
      "[CV]  subsample=0.6, n_estimators=200, min_child_weight=1, max_depth=3, gamma=2, colsample_bytree=1.0, score=0.8071110660273266, total=  38.4s\n",
      "[CV] subsample=0.6, n_estimators=100, min_child_weight=1, max_depth=3, gamma=2, colsample_bytree=1.0 \n",
      "[CV]  subsample=0.6, n_estimators=100, min_child_weight=1, max_depth=3, gamma=2, colsample_bytree=1.0, score=0.8239299172705701, total=  19.1s\n",
      "[CV] subsample=0.6, n_estimators=100, min_child_weight=1, max_depth=3, gamma=2, colsample_bytree=1.0 \n",
      "[CV]  subsample=1.0, n_estimators=300, min_child_weight=10, max_depth=5, gamma=1.5, colsample_bytree=0.6, score=0.8148346565766691, total=  59.2s\n",
      "[CV] subsample=0.6, n_estimators=100, min_child_weight=1, max_depth=3, gamma=2, colsample_bytree=1.0 \n",
      "[CV]  subsample=1.0, n_estimators=300, min_child_weight=10, max_depth=5, gamma=1.5, colsample_bytree=0.6, score=0.8186864362213815, total= 1.1min\n",
      "[CV] subsample=0.8, n_estimators=200, min_child_weight=10, max_depth=3, gamma=1.5, colsample_bytree=0.6 \n",
      "[CV]  subsample=0.6, n_estimators=100, min_child_weight=1, max_depth=3, gamma=2, colsample_bytree=1.0, score=0.8247161675110627, total=  19.4s\n",
      "[CV] subsample=0.8, n_estimators=200, min_child_weight=10, max_depth=3, gamma=1.5, colsample_bytree=0.6 \n",
      "[CV]  subsample=0.6, n_estimators=100, min_child_weight=1, max_depth=3, gamma=2, colsample_bytree=1.0, score=0.8097000605958953, total=  18.2s\n",
      "[CV] subsample=0.8, n_estimators=200, min_child_weight=10, max_depth=3, gamma=1.5, colsample_bytree=0.6 \n",
      "[CV]  subsample=1.0, n_estimators=300, min_child_weight=10, max_depth=5, gamma=1.5, colsample_bytree=0.6, score=0.806078438385403, total=  59.9s\n",
      "[CV] subsample=0.6, n_estimators=300, min_child_weight=10, max_depth=3, gamma=2, colsample_bytree=1.0 \n",
      "[CV]  subsample=0.8, n_estimators=200, min_child_weight=10, max_depth=3, gamma=1.5, colsample_bytree=0.6, score=0.8288751106265633, total=  24.4s\n",
      "[CV] subsample=0.6, n_estimators=300, min_child_weight=10, max_depth=3, gamma=2, colsample_bytree=1.0 \n",
      "[CV]  subsample=0.8, n_estimators=200, min_child_weight=10, max_depth=3, gamma=1.5, colsample_bytree=0.6, score=0.827863579811454, total=  24.1s\n",
      "[CV] subsample=0.6, n_estimators=300, min_child_weight=10, max_depth=3, gamma=2, colsample_bytree=1.0 \n",
      "[CV]  subsample=0.8, n_estimators=200, min_child_weight=10, max_depth=3, gamma=1.5, colsample_bytree=0.6, score=0.8124617678544119, total=  23.7s\n",
      "[CV] subsample=0.6, n_estimators=200, min_child_weight=1, max_depth=5, gamma=2, colsample_bytree=1.0 \n",
      "[CV]  subsample=0.6, n_estimators=300, min_child_weight=10, max_depth=3, gamma=2, colsample_bytree=1.0, score=0.8218412364522542, total=  54.7s\n",
      "[CV] subsample=0.6, n_estimators=200, min_child_weight=1, max_depth=5, gamma=2, colsample_bytree=1.0 \n",
      "[CV]  subsample=0.6, n_estimators=300, min_child_weight=10, max_depth=3, gamma=2, colsample_bytree=1.0, score=0.8239970243057781, total=  56.7s\n",
      "[CV] subsample=0.6, n_estimators=200, min_child_weight=1, max_depth=5, gamma=2, colsample_bytree=1.0 \n",
      "[CV]  subsample=0.6, n_estimators=300, min_child_weight=10, max_depth=3, gamma=2, colsample_bytree=1.0, score=0.8054270016789257, total=  52.4s\n",
      "[CV] subsample=0.6, n_estimators=200, min_child_weight=10, max_depth=4, gamma=5, colsample_bytree=1.0 \n",
      "[CV]  subsample=0.6, n_estimators=200, min_child_weight=1, max_depth=5, gamma=2, colsample_bytree=1.0, score=0.8169943949207978, total=  59.2s\n",
      "[CV] subsample=0.6, n_estimators=200, min_child_weight=10, max_depth=4, gamma=5, colsample_bytree=1.0 \n",
      "[CV]  subsample=0.6, n_estimators=200, min_child_weight=1, max_depth=5, gamma=2, colsample_bytree=1.0, score=0.8197780029500418, total=  59.1s\n",
      "[CV] subsample=0.6, n_estimators=200, min_child_weight=10, max_depth=4, gamma=5, colsample_bytree=1.0 \n",
      "[CV]  subsample=0.6, n_estimators=200, min_child_weight=10, max_depth=4, gamma=5, colsample_bytree=1.0, score=0.8238103251458988, total=  47.1s\n",
      "[CV] subsample=0.8, n_estimators=300, min_child_weight=10, max_depth=3, gamma=0.5, colsample_bytree=0.8 \n",
      "[CV]  subsample=0.6, n_estimators=200, min_child_weight=1, max_depth=5, gamma=2, colsample_bytree=1.0, score=0.7984915157524662, total= 1.0min\n",
      "[CV] subsample=0.8, n_estimators=300, min_child_weight=10, max_depth=3, gamma=0.5, colsample_bytree=0.8 \n",
      "[CV]  subsample=0.6, n_estimators=200, min_child_weight=10, max_depth=4, gamma=5, colsample_bytree=1.0, score=0.8238168921952158, total=  46.6s\n",
      "[CV] subsample=0.8, n_estimators=300, min_child_weight=10, max_depth=3, gamma=0.5, colsample_bytree=0.8 \n"
     ]
    },
    {
     "name": "stdout",
     "output_type": "stream",
     "text": [
      "[CV]  subsample=0.6, n_estimators=200, min_child_weight=10, max_depth=4, gamma=5, colsample_bytree=1.0, score=0.8088847498137725, total=  47.7s\n",
      "[CV] subsample=0.8, n_estimators=100, min_child_weight=1, max_depth=5, gamma=2, colsample_bytree=1.0 \n",
      "[CV]  subsample=0.8, n_estimators=300, min_child_weight=10, max_depth=3, gamma=0.5, colsample_bytree=0.8, score=0.825042980824729, total=  48.6s\n",
      "[CV] subsample=0.8, n_estimators=100, min_child_weight=1, max_depth=5, gamma=2, colsample_bytree=1.0 \n",
      "[CV]  subsample=0.8, n_estimators=300, min_child_weight=10, max_depth=3, gamma=0.5, colsample_bytree=0.8, score=0.825192124671327, total=  43.9s\n",
      "[CV] subsample=0.8, n_estimators=100, min_child_weight=1, max_depth=5, gamma=2, colsample_bytree=1.0 \n",
      "[CV]  subsample=0.8, n_estimators=300, min_child_weight=10, max_depth=3, gamma=0.5, colsample_bytree=0.8, score=0.8104088455207547, total=  43.8s\n",
      "[CV] subsample=1.0, n_estimators=100, min_child_weight=10, max_depth=3, gamma=5, colsample_bytree=0.6 \n",
      "[CV]  subsample=1.0, n_estimators=100, min_child_weight=10, max_depth=3, gamma=5, colsample_bytree=0.6, score=0.8251409222086834, total=  13.1s\n",
      "[CV] subsample=1.0, n_estimators=100, min_child_weight=10, max_depth=3, gamma=5, colsample_bytree=0.6 \n",
      "[CV]  subsample=1.0, n_estimators=100, min_child_weight=10, max_depth=3, gamma=5, colsample_bytree=0.6, score=0.8238018598088886, total=  12.7s\n",
      "[CV] subsample=1.0, n_estimators=100, min_child_weight=10, max_depth=3, gamma=5, colsample_bytree=0.6 \n",
      "[CV]  subsample=0.8, n_estimators=100, min_child_weight=1, max_depth=5, gamma=2, colsample_bytree=1.0, score=0.818370089142564, total=  35.2s\n",
      "[CV] subsample=0.6, n_estimators=100, min_child_weight=5, max_depth=5, gamma=0.5, colsample_bytree=0.8 \n",
      "[CV]  subsample=0.8, n_estimators=100, min_child_weight=1, max_depth=5, gamma=2, colsample_bytree=1.0, score=0.8103782186944504, total=  32.9s\n",
      "[CV] subsample=0.6, n_estimators=100, min_child_weight=5, max_depth=5, gamma=0.5, colsample_bytree=0.8 \n",
      "[CV]  subsample=0.8, n_estimators=100, min_child_weight=1, max_depth=5, gamma=2, colsample_bytree=1.0, score=0.8240028217790034, total=  35.6s\n",
      "[CV] subsample=0.6, n_estimators=100, min_child_weight=5, max_depth=5, gamma=0.5, colsample_bytree=0.8 \n",
      "[CV]  subsample=1.0, n_estimators=100, min_child_weight=10, max_depth=3, gamma=5, colsample_bytree=0.6, score=0.8070117857782996, total=  13.1s\n",
      "[CV] subsample=0.8, n_estimators=200, min_child_weight=1, max_depth=5, gamma=5, colsample_bytree=0.6 \n",
      "[CV]  subsample=0.6, n_estimators=100, min_child_weight=5, max_depth=5, gamma=0.5, colsample_bytree=0.8, score=0.8251714487269928, total=  25.1s\n",
      "[CV] subsample=0.8, n_estimators=200, min_child_weight=1, max_depth=5, gamma=5, colsample_bytree=0.6 \n",
      "[CV]  subsample=0.6, n_estimators=100, min_child_weight=5, max_depth=5, gamma=0.5, colsample_bytree=0.8, score=0.8247619316359904, total=  24.8s\n",
      "[CV] subsample=0.8, n_estimators=200, min_child_weight=1, max_depth=5, gamma=5, colsample_bytree=0.6 \n",
      "[CV]  subsample=0.6, n_estimators=100, min_child_weight=5, max_depth=5, gamma=0.5, colsample_bytree=0.8, score=0.8124154679039082, total=  25.4s\n",
      "[CV] subsample=1.0, n_estimators=300, min_child_weight=5, max_depth=3, gamma=1.5, colsample_bytree=0.6 \n",
      "[CV]  subsample=0.8, n_estimators=200, min_child_weight=1, max_depth=5, gamma=5, colsample_bytree=0.6, score=0.8224315526197653, total=  40.7s\n",
      "[CV] subsample=1.0, n_estimators=300, min_child_weight=5, max_depth=3, gamma=1.5, colsample_bytree=0.6 \n",
      "[CV]  subsample=0.8, n_estimators=200, min_child_weight=1, max_depth=5, gamma=5, colsample_bytree=0.6, score=0.8238930802283075, total=  40.4s\n",
      "[CV] subsample=1.0, n_estimators=300, min_child_weight=5, max_depth=3, gamma=1.5, colsample_bytree=0.6 \n",
      "[CV]  subsample=0.8, n_estimators=200, min_child_weight=1, max_depth=5, gamma=5, colsample_bytree=0.6, score=0.807871238244643, total=  39.9s\n",
      "[CV] subsample=1.0, n_estimators=300, min_child_weight=10, max_depth=3, gamma=5, colsample_bytree=0.6 \n",
      "[CV]  subsample=1.0, n_estimators=300, min_child_weight=5, max_depth=3, gamma=1.5, colsample_bytree=0.6, score=0.8227284037709228, total=  39.4s\n",
      "[CV] subsample=1.0, n_estimators=300, min_child_weight=10, max_depth=3, gamma=5, colsample_bytree=0.6 \n",
      "[CV]  subsample=1.0, n_estimators=300, min_child_weight=5, max_depth=3, gamma=1.5, colsample_bytree=0.6, score=0.8261591226832553, total=  40.0s\n",
      "[CV] subsample=1.0, n_estimators=300, min_child_weight=10, max_depth=3, gamma=5, colsample_bytree=0.6 \n",
      "[CV]  subsample=1.0, n_estimators=300, min_child_weight=5, max_depth=3, gamma=1.5, colsample_bytree=0.6, score=0.8081413298537969, total=  38.5s\n",
      "[CV] subsample=0.8, n_estimators=200, min_child_weight=5, max_depth=4, gamma=0.5, colsample_bytree=0.8 \n",
      "[CV]  subsample=1.0, n_estimators=300, min_child_weight=10, max_depth=3, gamma=5, colsample_bytree=0.6, score=0.8251500545116399, total=  37.9s\n",
      "[CV] subsample=0.8, n_estimators=200, min_child_weight=5, max_depth=4, gamma=0.5, colsample_bytree=0.8 \n",
      "[CV]  subsample=1.0, n_estimators=300, min_child_weight=10, max_depth=3, gamma=5, colsample_bytree=0.6, score=0.8243605720515617, total=  39.7s\n",
      "[CV] subsample=0.8, n_estimators=200, min_child_weight=5, max_depth=4, gamma=0.5, colsample_bytree=0.8 \n",
      "[CV]  subsample=1.0, n_estimators=300, min_child_weight=10, max_depth=3, gamma=5, colsample_bytree=0.6, score=0.8074169231920305, total=  37.8s\n",
      "[CV] subsample=0.8, n_estimators=300, min_child_weight=10, max_depth=5, gamma=2, colsample_bytree=1.0 \n",
      "[CV]  subsample=0.8, n_estimators=200, min_child_weight=5, max_depth=4, gamma=0.5, colsample_bytree=0.8, score=0.8273229782594755, total=  41.5s\n",
      "[CV] subsample=0.8, n_estimators=300, min_child_weight=10, max_depth=5, gamma=2, colsample_bytree=1.0 \n"
     ]
    },
    {
     "name": "stderr",
     "output_type": "stream",
     "text": [
      "[Parallel(n_jobs=4)]: Done 154 tasks      | elapsed: 25.2min\n"
     ]
    },
    {
     "name": "stdout",
     "output_type": "stream",
     "text": [
      "[CV]  subsample=0.8, n_estimators=200, min_child_weight=5, max_depth=4, gamma=0.5, colsample_bytree=0.8, score=0.8226610402103507, total=  41.8s\n",
      "[CV] subsample=0.8, n_estimators=300, min_child_weight=10, max_depth=5, gamma=2, colsample_bytree=1.0 \n",
      "[CV]  subsample=0.8, n_estimators=200, min_child_weight=5, max_depth=4, gamma=0.5, colsample_bytree=0.8, score=0.8102704081548755, total=  43.3s\n",
      "[CV] subsample=1.0, n_estimators=100, min_child_weight=1, max_depth=3, gamma=2, colsample_bytree=1.0 \n",
      "[CV]  subsample=1.0, n_estimators=100, min_child_weight=1, max_depth=3, gamma=2, colsample_bytree=1.0, score=0.8228216763932534, total=  20.7s\n",
      "[CV] subsample=1.0, n_estimators=100, min_child_weight=1, max_depth=3, gamma=2, colsample_bytree=1.0 \n",
      "[CV]  subsample=1.0, n_estimators=100, min_child_weight=1, max_depth=3, gamma=2, colsample_bytree=1.0, score=0.8226030141730263, total=  21.7s\n",
      "[CV] subsample=1.0, n_estimators=100, min_child_weight=1, max_depth=3, gamma=2, colsample_bytree=1.0 \n",
      "[CV]  subsample=1.0, n_estimators=100, min_child_weight=1, max_depth=3, gamma=2, colsample_bytree=1.0, score=0.8093205654411003, total=  22.2s\n",
      "[CV] subsample=0.6, n_estimators=300, min_child_weight=1, max_depth=3, gamma=0.5, colsample_bytree=0.6 \n",
      "[CV]  subsample=0.8, n_estimators=300, min_child_weight=10, max_depth=5, gamma=2, colsample_bytree=1.0, score=0.8149056114923363, total= 1.6min\n",
      "[CV] subsample=0.6, n_estimators=300, min_child_weight=1, max_depth=3, gamma=0.5, colsample_bytree=0.6 \n",
      "[CV]  subsample=0.8, n_estimators=300, min_child_weight=10, max_depth=5, gamma=2, colsample_bytree=1.0, score=0.8107871480792663, total= 1.5min\n",
      "[CV] subsample=0.6, n_estimators=300, min_child_weight=1, max_depth=3, gamma=0.5, colsample_bytree=0.6 \n",
      "[CV]  subsample=0.8, n_estimators=300, min_child_weight=10, max_depth=5, gamma=2, colsample_bytree=1.0, score=0.7994822627510372, total= 1.6min\n",
      "[CV] subsample=0.6, n_estimators=100, min_child_weight=10, max_depth=4, gamma=2, colsample_bytree=0.8 \n",
      "[CV]  subsample=0.6, n_estimators=300, min_child_weight=1, max_depth=3, gamma=0.5, colsample_bytree=0.6, score=0.8172345539665234, total=  34.3s\n",
      "[CV] subsample=0.6, n_estimators=100, min_child_weight=10, max_depth=4, gamma=2, colsample_bytree=0.8 \n",
      "[CV]  subsample=0.6, n_estimators=300, min_child_weight=1, max_depth=3, gamma=0.5, colsample_bytree=0.6, score=0.8253425511447443, total=  34.8s\n",
      "[CV] subsample=0.6, n_estimators=100, min_child_weight=10, max_depth=4, gamma=2, colsample_bytree=0.8 \n",
      "[CV]  subsample=0.6, n_estimators=100, min_child_weight=10, max_depth=4, gamma=2, colsample_bytree=0.8, score=0.8265403193740782, total=  20.1s\n",
      "[CV] subsample=0.8, n_estimators=200, min_child_weight=1, max_depth=5, gamma=2, colsample_bytree=1.0 \n",
      "[CV]  subsample=0.6, n_estimators=300, min_child_weight=1, max_depth=3, gamma=0.5, colsample_bytree=0.6, score=0.8082697466976472, total=  33.2s\n",
      "[CV] subsample=0.8, n_estimators=200, min_child_weight=1, max_depth=5, gamma=2, colsample_bytree=1.0 \n",
      "[CV]  subsample=0.6, n_estimators=100, min_child_weight=10, max_depth=4, gamma=2, colsample_bytree=0.8, score=0.825758840505355, total=  20.2s\n",
      "[CV] subsample=0.8, n_estimators=200, min_child_weight=1, max_depth=5, gamma=2, colsample_bytree=1.0 \n",
      "[CV]  subsample=0.6, n_estimators=100, min_child_weight=10, max_depth=4, gamma=2, colsample_bytree=0.8, score=0.8138040553206813, total=  19.2s\n",
      "[CV] subsample=0.8, n_estimators=300, min_child_weight=1, max_depth=5, gamma=1.5, colsample_bytree=0.8 \n",
      "[CV]  subsample=0.8, n_estimators=200, min_child_weight=1, max_depth=5, gamma=2, colsample_bytree=1.0, score=0.8101069454242288, total= 1.1min\n",
      "[CV] subsample=0.8, n_estimators=300, min_child_weight=1, max_depth=5, gamma=1.5, colsample_bytree=0.8 \n",
      "[CV]  subsample=0.8, n_estimators=200, min_child_weight=1, max_depth=5, gamma=2, colsample_bytree=1.0, score=0.817686141217213, total= 1.1min\n",
      "[CV] subsample=0.8, n_estimators=300, min_child_weight=1, max_depth=5, gamma=1.5, colsample_bytree=0.8 \n",
      "[CV]  subsample=0.8, n_estimators=200, min_child_weight=1, max_depth=5, gamma=2, colsample_bytree=1.0, score=0.8026877506672128, total= 1.1min\n",
      "[CV] subsample=1.0, n_estimators=200, min_child_weight=5, max_depth=4, gamma=0.5, colsample_bytree=0.6 \n",
      "[CV]  subsample=0.8, n_estimators=300, min_child_weight=1, max_depth=5, gamma=1.5, colsample_bytree=0.8, score=0.8093076636952478, total= 1.4min\n",
      "[CV] subsample=1.0, n_estimators=200, min_child_weight=5, max_depth=4, gamma=0.5, colsample_bytree=0.6 \n",
      "[CV]  subsample=1.0, n_estimators=200, min_child_weight=5, max_depth=4, gamma=0.5, colsample_bytree=0.6, score=0.8190964663631116, total=  33.6s\n",
      "[CV] subsample=1.0, n_estimators=200, min_child_weight=5, max_depth=4, gamma=0.5, colsample_bytree=0.6 \n",
      "[CV]  subsample=1.0, n_estimators=200, min_child_weight=5, max_depth=4, gamma=0.5, colsample_bytree=0.6, score=0.8231426922336946, total=  34.8s\n",
      "[CV] subsample=1.0, n_estimators=100, min_child_weight=10, max_depth=5, gamma=2, colsample_bytree=0.6 \n",
      "[CV]  subsample=1.0, n_estimators=200, min_child_weight=5, max_depth=4, gamma=0.5, colsample_bytree=0.6, score=0.8087576690395263, total=  35.3s\n",
      "[CV] subsample=1.0, n_estimators=100, min_child_weight=10, max_depth=5, gamma=2, colsample_bytree=0.6 \n",
      "[CV]  subsample=0.8, n_estimators=300, min_child_weight=1, max_depth=5, gamma=1.5, colsample_bytree=0.8, score=0.8112685435772462, total= 1.4min\n",
      "[CV] subsample=1.0, n_estimators=100, min_child_weight=10, max_depth=5, gamma=2, colsample_bytree=0.6 \n",
      "[CV]  subsample=1.0, n_estimators=100, min_child_weight=10, max_depth=5, gamma=2, colsample_bytree=0.6, score=0.824350259731931, total=  21.6s\n",
      "[CV]  subsample=0.8, n_estimators=300, min_child_weight=1, max_depth=5, gamma=1.5, colsample_bytree=0.8, score=0.7959064266181242, total= 1.3min\n",
      "[CV]  subsample=1.0, n_estimators=100, min_child_weight=10, max_depth=5, gamma=2, colsample_bytree=0.6, score=0.8221753863913294, total=  20.4s\n",
      "[CV]  subsample=1.0, n_estimators=100, min_child_weight=10, max_depth=5, gamma=2, colsample_bytree=0.6, score=0.8088021704347941, total=  21.6s\n"
     ]
    },
    {
     "name": "stderr",
     "output_type": "stream",
     "text": [
      "[Parallel(n_jobs=4)]: Done 180 out of 180 | elapsed: 30.1min finished\n",
      "/opt/conda/lib/python3.6/site-packages/sklearn/model_selection/_search.py:718: DeprecationWarning: The default of the `iid` parameter will change from True to False in version 0.22 and will be removed in 0.24. This will change numeric results when test-set sizes are unequal.\n",
      "  DeprecationWarning)\n"
     ]
    },
    {
     "name": "stdout",
     "output_type": "stream",
     "text": [
      ">> Tuning time:  1839.442002773285\n"
     ]
    }
   ],
   "source": [
    "from sklearn.model_selection import StratifiedKFold\n",
    "from sklearn.model_selection import RandomizedSearchCV\n",
    "\n",
    "xgc2 = XGBClassifier()\n",
    "# A parameter grid for XGBoost\n",
    "params = {\n",
    "        'n_estimators' : [100, 200, 300],\n",
    "        'min_child_weight': [1, 5, 10],\n",
    "        'gamma': [0.5, 1, 1.5, 2, 5],\n",
    "        'subsample': [0.6, 0.8, 1.0],\n",
    "        'colsample_bytree': [0.6, 0.8, 1.0],\n",
    "        'max_depth': [3, 4, 5]\n",
    "        }\n",
    "kfold = StratifiedKFold(n_splits=3)\n",
    "random_search = RandomizedSearchCV(xgc2, param_distributions=params, scoring='roc_auc', n_jobs=4, cv=kfold, verbose=5, n_iter=60)\n",
    "\n",
    "start_time = time.time()\n",
    "random_search.fit(tX_train, ty_train)\n",
    "print('>> Tuning time: ',time.time()-start_time)\n",
    "\n"
   ]
  },
  {
   "cell_type": "code",
   "execution_count": 36,
   "metadata": {
    "_cell_guid": "816e5116-8b40-443c-9d49-88c432b741f2",
    "_uuid": "b609154b094f1eea8c55e745ca383ef3855ebe18"
   },
   "outputs": [
    {
     "name": "stdout",
     "output_type": "stream",
     "text": [
      "\n",
      "Best estimator:\n",
      "XGBClassifier(base_score=0.5, booster='gbtree', colsample_bylevel=1,\n",
      "       colsample_bytree=0.6, gamma=1.5, learning_rate=0.1,\n",
      "       max_delta_step=0, max_depth=3, min_child_weight=10, missing=None,\n",
      "       n_estimators=200, n_jobs=1, nthread=None,\n",
      "       objective='binary:logistic', random_state=0, reg_alpha=0,\n",
      "       reg_lambda=1, scale_pos_weight=1, seed=None, silent=True,\n",
      "       subsample=0.8)\n",
      "\n",
      "score :\n",
      "0.823067037404\n",
      "\n",
      " Best hyperparameters:\n",
      "{'subsample': 0.8, 'n_estimators': 200, 'min_child_weight': 10, 'max_depth': 3, 'gamma': 1.5, 'colsample_bytree': 0.6}\n"
     ]
    }
   ],
   "source": [
    "print('\\nBest estimator:')\n",
    "print(random_search.best_estimator_)\n",
    "print(\"\\nscore :\")\n",
    "print(random_search.best_score_ )\n",
    "print('\\n Best hyperparameters:')\n",
    "print(random_search.best_params_)"
   ]
  },
  {
   "cell_type": "code",
   "execution_count": 46,
   "metadata": {
    "_uuid": "d682bf303c02ad52f31360dc79f544342e2be7dd",
    "collapsed": true
   },
   "outputs": [],
   "source": [
    "def get_final_score(learner, X_test, y_test):\n",
    "    start = time.time() # Get start time\n",
    "    predictions_test = learner.predict_proba(X_test)[:,1]\n",
    "    end = time.time() # Get end time \n",
    "    print('%s gets score of %0.5f , prediction time = %0.2f' % (learner.__class__.__name__, roc_auc_score(y_test, predictions_test),  end - start) ) "
   ]
  },
  {
   "cell_type": "code",
   "execution_count": 53,
   "metadata": {
    "_uuid": "ed95a671799aafc421cef4a61c296436314b617c"
   },
   "outputs": [
    {
     "data": {
      "image/png": "[encoded data removed]",
      "text/plain": [
       "<matplotlib.figure.Figure at 0x7fb633242940>"
      ]
     },
     "metadata": {},
     "output_type": "display_data"
    },
    {
     "name": "stdout",
     "output_type": "stream",
     "text": [
      "XGBClassifier is trained.\n",
      "tunned Xgboost results with scaled:  {'train_time': 45.42508101463318, 'pred_time': 0.09284186363220215, 'roc_auc_score': 0.82713406821077551}\n"
     ]
    }
   ],
   "source": [
    "# tuned model preformance on scaled data\n",
    "tunned_model_results_scaled = train_predict(random_search.best_estimator_, X_train, y_train, X_test, y_test)\n",
    "print('tunned Xgboost results with scaled: ', tunned_model_results_scaled)"
   ]
  },
  {
   "cell_type": "code",
   "execution_count": 48,
   "metadata": {
    "_uuid": "d00bbc947a40a331de8cfdb15cdddb919e4c3df8"
   },
   "outputs": [
    {
     "name": "stdout",
     "output_type": "stream",
     "text": [
      "XGBClassifier gets score of 0.83587 , prediction time = 0.20\n"
     ]
    }
   ],
   "source": [
    "# final score of tuned model on scaled testing sample:\n",
    "get_final_score(random_search.best_estimator_, scaled_train[60817:], labels[60817:])"
   ]
  },
  {
   "cell_type": "code",
   "execution_count": 49,
   "metadata": {
    "_cell_guid": "642c8044-bb44-440c-85a4-cddf5f122484",
    "_uuid": "e2c84975823cf031a3f99da3befddbfe01d6b485",
    "scrolled": true
   },
   "outputs": [
    {
     "data": {
      "image/png": "[encoded data removed]",
      "text/plain": [
       "<matplotlib.figure.Figure at 0x7fb63359e4a8>"
      ]
     },
     "metadata": {},
     "output_type": "display_data"
    },
    {
     "name": "stdout",
     "output_type": "stream",
     "text": [
      "XGBClassifier is trained.\n",
      "tunned Xgboost results with reduced:  {'train_time': 38.18920564651489, 'pred_time': 0.08826351165771484, 'roc_auc_score': 0.81297721013668867}\n"
     ]
    }
   ],
   "source": [
    "# tuned model preformance on reduced data\n",
    "tunned_model_results_reduced = train_predict(random_search.best_estimator_, tX_train, ty_train, tX_test, ty_test)\n",
    "print('tunned Xgboost results with reduced: ', tunned_model_results_reduced)"
   ]
  },
  {
   "cell_type": "code",
   "execution_count": 50,
   "metadata": {
    "_uuid": "ad4d2c69d1ca23a8850b04bf6bd933a714a90a44"
   },
   "outputs": [
    {
     "name": "stdout",
     "output_type": "stream",
     "text": [
      "XGBClassifier gets score of 0.81102 , prediction time = 0.11\n"
     ]
    }
   ],
   "source": [
    "# final score of tuned model on reduced testing sample:\n",
    "get_final_score(random_search.best_estimator_, t_train[60817:], labels[60817:])"
   ]
  },
  {
   "cell_type": "code",
   "execution_count": 52,
   "metadata": {
    "_cell_guid": "53164d0d-fff0-4917-9098-d83054495afe",
    "_uuid": "4a341a1eaa7021307d6da8807c6addf0769592be"
   },
   "outputs": [
    {
     "name": "stdout",
     "output_type": "stream",
     "text": [
      ">>benchmark model score on scaled testing sample: \n",
      "LogisticRegression gets score of 0.78941 , prediction time = 0.15\n"
     ]
    }
   ],
   "source": [
    "print('>>benchmark model score on scaled testing sample: ')\n",
    "get_final_score(lg2, scaled_train[60817:], labels[60817:])"
   ]
  },
  {
   "cell_type": "markdown",
   "metadata": {
    "_uuid": "92fc9111defa9e3e11ff26676055168d8d62e5b7"
   },
   "source": [
    "**Final model features importance:**"
   ]
  },
  {
   "cell_type": "code",
   "execution_count": 61,
   "metadata": {
    "_uuid": "1a4b40f2e277c059c313202bd66678201af207bf"
   },
   "outputs": [
    {
     "data": {
      "image/png": "[encoded data removed]",
      "text/plain": [
       "<matplotlib.figure.Figure at 0x7fb62901c470>"
      ]
     },
     "metadata": {},
     "output_type": "display_data"
    }
   ],
   "source": [
    "# manual plot\n",
    "plt.bar(range(len(random_search.best_estimator_.feature_importances_)), random_search.best_estimator_.feature_importances_)\n",
    "plt.show()"
   ]
  },
  {
   "cell_type": "code",
   "execution_count": 67,
   "metadata": {
    "_uuid": "64c167efd79c02680c123309a0f9ac13ac801105"
   },
   "outputs": [
    {
     "data": {
      "image/png": "[encoded data removed]",
      "text/plain": [
       "<matplotlib.figure.Figure at 0x7fb62188f198>"
      ]
     },
     "metadata": {},
     "output_type": "display_data"
    }
   ],
   "source": [
    "# using XgBoost plot_importance\n",
    "from xgboost import plot_importance\n",
    "ax = plot_importance(random_search.best_estimator_)\n",
    "fig = ax.figure\n",
    "fig.set_size_inches(5, 30)"
   ]
  }
 ],
 "metadata": {
  "kernelspec": {
   "display_name": "Python 3",
   "language": "python",
   "name": "python3"
  },
  "language_info": {
   "codemirror_mode": {
    "name": "ipython",
    "version": 3
   },
   "file_extension": ".py",
   "mimetype": "text/x-python",
   "name": "python",
   "nbconvert_exporter": "python",
   "pygments_lexer": "ipython3",
   "version": "3.6.3"
  }
 },
 "nbformat": 4,
 "nbformat_minor": 1
}
